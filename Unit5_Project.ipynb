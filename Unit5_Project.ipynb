{
 "cells": [
  {
   "cell_type": "markdown",
   "metadata": {},
   "source": [
    "# Get data from server"
   ]
  },
  {
   "cell_type": "code",
   "execution_count": 1,
   "metadata": {},
   "outputs": [],
   "source": [
    "import pymysql\n",
    "import pandas as pd\n",
    "\n",
    "from dotenv import load_dotenv\n",
    "from os import getenv"
   ]
  },
  {
   "cell_type": "code",
   "execution_count": 2,
   "metadata": {},
   "outputs": [],
   "source": [
    "load_dotenv(dotenv_path = '.env')\n",
    "\n",
    "conn = pymysql.connect(host = getenv('host'),\n",
    "                       port = int(getenv('port')),\n",
    "                       user = getenv('user'),\n",
    "                       passwd = getenv('password'),\n",
    "                       db = 'financial')"
   ]
  },
  {
   "cell_type": "code",
   "execution_count": 3,
   "metadata": {
    "scrolled": true
   },
   "outputs": [
    {
     "name": "stdout",
     "output_type": "stream",
     "text": [
      "      account_id  district_id         frequency        date\n",
      "4498       11362           67  POPLATEK MESICNE  1995-10-14\n",
      "4499       11382           74  POPLATEK MESICNE  1995-08-20\n",
      "\n",
      "     card_id  disp_id     type      issued\n",
      "890     1239    13442   junior  1998-02-02\n",
      "891     1247    13660  classic  1995-06-13\n",
      "\n",
      "      client_id gender  birth_date  district_id\n",
      "5367      13971      F  1962-10-19           67\n",
      "5368      13998      F  1953-08-12           74\n",
      "\n",
      "      disp_id  client_id  account_id   type\n",
      "5367    13663      13971       11362  OWNER\n",
      "5368    13690      13998       11382  OWNER\n",
      "\n",
      "    district_id       A2             A3      A4  A5  A6  A7  A8  A9   A10  \\\n",
      "75           76  Sumperk  north Moravia  127369  31  32  13   2   7  51.2   \n",
      "76           77   Vsetin  north Moravia  148545   8  35  12   3   4  53.5   \n",
      "\n",
      "     A11  A12   A13  A14     A15   A16  \n",
      "75  8369  4.7  5.88  107  3736.0  2807  \n",
      "76  8909  4.0  5.56  113  3460.0  3590  \n",
      "\n",
      "     loan_id  account_id        date  amount  duration  payments status\n",
      "680     7305       11359  1996-08-06   54024        12    4502.0      A\n",
      "681     7308       11362  1996-12-27  129408        24    5392.0      A\n",
      "\n",
      "      order_id  account_id bank_to  account_to  amount k_symbol\n",
      "6469     46337       11362      KL    20009470   129.0         \n",
      "6470     46338       11362      MN    61540514  5392.0     UVER\n",
      "\n",
      "         trans_id  account_id        date    type operation  amount  balance  \\\n",
      "1056318   3682986       10451  1998-11-30  PRIJEM      None      26     8398   \n",
      "1056319   3682987       10451  1998-12-31  PRIJEM      None      42    13695   \n",
      "\n",
      "        k_symbol  bank  account  \n",
      "1056318     UROK  None      NaN  \n",
      "1056319     UROK  None      NaN  \n",
      "\n"
     ]
    }
   ],
   "source": [
    "tables = ['account','card','client','disp','district','loan','order','trans']\n",
    "\n",
    "for name in tables:\n",
    "\n",
    "    table = pd.read_sql(\"select * from `%s`\" % name, conn)\n",
    "    table.to_csv('tables/%s.csv' % name, index = False)\n",
    "    print(table.tail(2))\n",
    "    print('')"
   ]
  },
  {
   "cell_type": "code",
   "execution_count": 4,
   "metadata": {},
   "outputs": [],
   "source": [
    "#Close connection\n",
    "conn.close()"
   ]
  },
  {
   "cell_type": "markdown",
   "metadata": {},
   "source": [
    "# Load in data"
   ]
  },
  {
   "cell_type": "code",
   "execution_count": 5,
   "metadata": {},
   "outputs": [],
   "source": [
    "import matplotlib.pyplot as plt\n",
    "import seaborn as sns\n",
    "import numpy as np\n",
    "import pandas as pd\n",
    "\n",
    "pd.set_option('display.max_columns', None)"
   ]
  },
  {
   "cell_type": "code",
   "execution_count": 89,
   "metadata": {},
   "outputs": [
    {
     "name": "stdout",
     "output_type": "stream",
     "text": [
      "      account_id  district_id         frequency        date\n",
      "4498       11362           67  POPLATEK MESICNE  1995-10-14\n",
      "4499       11382           74  POPLATEK MESICNE  1995-08-20\n",
      "\n",
      "     card_id  disp_id     type      issued\n",
      "890     1239    13442   junior  1998-02-02\n",
      "891     1247    13660  classic  1995-06-13\n",
      "\n",
      "      client_id gender  birth_date  district_id\n",
      "5367      13971      F  1962-10-19           67\n",
      "5368      13998      F  1953-08-12           74\n",
      "\n",
      "      disp_id  client_id  account_id   type\n",
      "5367    13663      13971       11362  OWNER\n",
      "5368    13690      13998       11382  OWNER\n",
      "\n",
      "    district_id       A2             A3      A4  A5  A6  A7  A8  A9   A10  \\\n",
      "75           76  Sumperk  north Moravia  127369  31  32  13   2   7  51.2   \n",
      "76           77   Vsetin  north Moravia  148545   8  35  12   3   4  53.5   \n",
      "\n",
      "     A11  A12   A13  A14     A15   A16  \n",
      "75  8369  4.7  5.88  107  3736.0  2807  \n",
      "76  8909  4.0  5.56  113  3460.0  3590  \n",
      "\n",
      "     loan_id  account_id        date  amount  duration  payments status\n",
      "680     7305       11359  1996-08-06   54024        12    4502.0      A\n",
      "681     7308       11362  1996-12-27  129408        24    5392.0      A\n",
      "\n",
      "      order_id  account_id bank_to  account_to  amount k_symbol\n",
      "6469     46337       11362      KL    20009470   129.0      NaN\n",
      "6470     46338       11362      MN    61540514  5392.0     UVER\n",
      "\n",
      "         trans_id  account_id        date    type operation  amount  balance  \\\n",
      "1056318   3682986       10451  1998-11-30  PRIJEM       NaN      26     8398   \n",
      "1056319   3682987       10451  1998-12-31  PRIJEM       NaN      42    13695   \n",
      "\n",
      "        k_symbol bank  account  \n",
      "1056318     UROK  NaN      NaN  \n",
      "1056319     UROK  NaN      NaN  \n",
      "\n"
     ]
    },
    {
     "name": "stderr",
     "output_type": "stream",
     "text": [
      "/home/steve/Desktop/Unit5_Project/venv/lib/python3.7/site-packages/IPython/core/interactiveshell.py:3263: DtypeWarning: Columns (8) have mixed types.Specify dtype option on import or set low_memory=False.\n",
      "  if (await self.run_code(code, result,  async_=asy)):\n"
     ]
    }
   ],
   "source": [
    "tables = ['account','card','client','disp','district','loan','order','trans']\n",
    "\n",
    "for name in tables:\n",
    "    exec(\"%s = pd.read_csv('tables/%s.csv')\" % (name,name))\n",
    "\n",
    "    exec(\"print(%s.tail(2))\" % name)\n",
    "    print('')"
   ]
  },
  {
   "cell_type": "markdown",
   "metadata": {},
   "source": [
    "# SQL merges"
   ]
  },
  {
   "cell_type": "code",
   "execution_count": 90,
   "metadata": {},
   "outputs": [],
   "source": [
    "# 'A' stands for contract finished, no problems,\n",
    "# 'B' stands for contract finished, loan not payed,\n",
    "# 'C' stands for running contract, OK so far,\n",
    "# 'D' stands for running contract, client in debt\n",
    "\n",
    "loan['status2'] = loan.status\n",
    "\n",
    "loan.loc[loan['status2']=='C','status2'] = 'A'\n",
    "loan.loc[loan['status2']=='B','status2'] = 'D'"
   ]
  },
  {
   "cell_type": "code",
   "execution_count": 91,
   "metadata": {},
   "outputs": [],
   "source": [
    "#Join card and disp\n",
    "disp_card = disp.drop(columns=['type']).merge(card,on='disp_id').drop(columns=['card_id','disp_id'])\n",
    "\n",
    "#Join client and disp\n",
    "disp_cc = disp_card.merge(client,on='client_id').drop(columns=['client_id','district_id'])\n",
    "\n",
    "#Join disp and account\n",
    "account_disp = account.merge(disp_cc,on='account_id')"
   ]
  },
  {
   "cell_type": "code",
   "execution_count": 92,
   "metadata": {},
   "outputs": [
    {
     "data": {
      "text/html": [
       "<div>\n",
       "<style scoped>\n",
       "    .dataframe tbody tr th:only-of-type {\n",
       "        vertical-align: middle;\n",
       "    }\n",
       "\n",
       "    .dataframe tbody tr th {\n",
       "        vertical-align: top;\n",
       "    }\n",
       "\n",
       "    .dataframe thead th {\n",
       "        text-align: right;\n",
       "    }\n",
       "</style>\n",
       "<table border=\"1\" class=\"dataframe\">\n",
       "  <thead>\n",
       "    <tr style=\"text-align: right;\">\n",
       "      <th></th>\n",
       "      <th>account_id</th>\n",
       "      <th>district_id</th>\n",
       "      <th>frequency</th>\n",
       "      <th>date</th>\n",
       "      <th>type</th>\n",
       "      <th>issued</th>\n",
       "      <th>gender</th>\n",
       "      <th>birth_date</th>\n",
       "    </tr>\n",
       "  </thead>\n",
       "  <tbody>\n",
       "    <tr>\n",
       "      <th>0</th>\n",
       "      <td>7</td>\n",
       "      <td>60</td>\n",
       "      <td>POPLATEK MESICNE</td>\n",
       "      <td>1996-11-24</td>\n",
       "      <td>gold</td>\n",
       "      <td>1998-10-16</td>\n",
       "      <td>M</td>\n",
       "      <td>1935-10-16</td>\n",
       "    </tr>\n",
       "    <tr>\n",
       "      <th>1</th>\n",
       "      <td>14</td>\n",
       "      <td>47</td>\n",
       "      <td>POPLATEK MESICNE</td>\n",
       "      <td>1996-11-27</td>\n",
       "      <td>classic</td>\n",
       "      <td>1998-03-13</td>\n",
       "      <td>M</td>\n",
       "      <td>1942-12-28</td>\n",
       "    </tr>\n",
       "  </tbody>\n",
       "</table>\n",
       "</div>"
      ],
      "text/plain": [
       "   account_id  district_id         frequency        date     type      issued  \\\n",
       "0           7           60  POPLATEK MESICNE  1996-11-24     gold  1998-10-16   \n",
       "1          14           47  POPLATEK MESICNE  1996-11-27  classic  1998-03-13   \n",
       "\n",
       "  gender  birth_date  \n",
       "0      M  1935-10-16  \n",
       "1      M  1942-12-28  "
      ]
     },
     "execution_count": 92,
     "metadata": {},
     "output_type": "execute_result"
    }
   ],
   "source": [
    "account_disp.head(2)"
   ]
  },
  {
   "cell_type": "code",
   "execution_count": 94,
   "metadata": {},
   "outputs": [],
   "source": [
    "#inner join order onto loan\n",
    "loan_o = loan.merge(order,on='account_id',\n",
    "                    suffixes=('_loan','_order')).drop(columns=['order_id','account_to','k_symbol',\n",
    "                                                               'amount_loan','duration','payments'])\n",
    "\n",
    "#inner join trans onto loan\n",
    "loan_ot = loan_o.merge(trans.drop(columns=['date','trans_id','bank','account','k_symbol','operation']),\n",
    "                       on='account_id',suffixes=('_order','_trans'))"
   ]
  },
  {
   "cell_type": "code",
   "execution_count": 95,
   "metadata": {},
   "outputs": [
    {
     "data": {
      "text/html": [
       "<div>\n",
       "<style scoped>\n",
       "    .dataframe tbody tr th:only-of-type {\n",
       "        vertical-align: middle;\n",
       "    }\n",
       "\n",
       "    .dataframe tbody tr th {\n",
       "        vertical-align: top;\n",
       "    }\n",
       "\n",
       "    .dataframe thead th {\n",
       "        text-align: right;\n",
       "    }\n",
       "</style>\n",
       "<table border=\"1\" class=\"dataframe\">\n",
       "  <thead>\n",
       "    <tr style=\"text-align: right;\">\n",
       "      <th></th>\n",
       "      <th>loan_id</th>\n",
       "      <th>account_id</th>\n",
       "      <th>date</th>\n",
       "      <th>status</th>\n",
       "      <th>status2</th>\n",
       "      <th>bank_to</th>\n",
       "      <th>amount_order</th>\n",
       "      <th>type</th>\n",
       "      <th>amount</th>\n",
       "      <th>balance</th>\n",
       "    </tr>\n",
       "  </thead>\n",
       "  <tbody>\n",
       "    <tr>\n",
       "      <th>0</th>\n",
       "      <td>4959</td>\n",
       "      <td>2</td>\n",
       "      <td>1994-01-05</td>\n",
       "      <td>A</td>\n",
       "      <td>A</td>\n",
       "      <td>ST</td>\n",
       "      <td>3372.7</td>\n",
       "      <td>PRIJEM</td>\n",
       "      <td>1100</td>\n",
       "      <td>1100</td>\n",
       "    </tr>\n",
       "    <tr>\n",
       "      <th>1</th>\n",
       "      <td>4959</td>\n",
       "      <td>2</td>\n",
       "      <td>1994-01-05</td>\n",
       "      <td>A</td>\n",
       "      <td>A</td>\n",
       "      <td>ST</td>\n",
       "      <td>3372.7</td>\n",
       "      <td>PRIJEM</td>\n",
       "      <td>20236</td>\n",
       "      <td>21336</td>\n",
       "    </tr>\n",
       "    <tr>\n",
       "      <th>2</th>\n",
       "      <td>4959</td>\n",
       "      <td>2</td>\n",
       "      <td>1994-01-05</td>\n",
       "      <td>A</td>\n",
       "      <td>A</td>\n",
       "      <td>ST</td>\n",
       "      <td>3372.7</td>\n",
       "      <td>PRIJEM</td>\n",
       "      <td>20236</td>\n",
       "      <td>45286</td>\n",
       "    </tr>\n",
       "    <tr>\n",
       "      <th>3</th>\n",
       "      <td>4959</td>\n",
       "      <td>2</td>\n",
       "      <td>1994-01-05</td>\n",
       "      <td>A</td>\n",
       "      <td>A</td>\n",
       "      <td>ST</td>\n",
       "      <td>3372.7</td>\n",
       "      <td>PRIJEM</td>\n",
       "      <td>20236</td>\n",
       "      <td>54631</td>\n",
       "    </tr>\n",
       "    <tr>\n",
       "      <th>4</th>\n",
       "      <td>4959</td>\n",
       "      <td>2</td>\n",
       "      <td>1994-01-05</td>\n",
       "      <td>A</td>\n",
       "      <td>A</td>\n",
       "      <td>ST</td>\n",
       "      <td>3372.7</td>\n",
       "      <td>PRIJEM</td>\n",
       "      <td>30354</td>\n",
       "      <td>67530</td>\n",
       "    </tr>\n",
       "  </tbody>\n",
       "</table>\n",
       "</div>"
      ],
      "text/plain": [
       "   loan_id  account_id        date status status2 bank_to  amount_order  \\\n",
       "0     4959           2  1994-01-05      A       A      ST        3372.7   \n",
       "1     4959           2  1994-01-05      A       A      ST        3372.7   \n",
       "2     4959           2  1994-01-05      A       A      ST        3372.7   \n",
       "3     4959           2  1994-01-05      A       A      ST        3372.7   \n",
       "4     4959           2  1994-01-05      A       A      ST        3372.7   \n",
       "\n",
       "     type  amount  balance  \n",
       "0  PRIJEM    1100     1100  \n",
       "1  PRIJEM   20236    21336  \n",
       "2  PRIJEM   20236    45286  \n",
       "3  PRIJEM   20236    54631  \n",
       "4  PRIJEM   30354    67530  "
      ]
     },
     "execution_count": 95,
     "metadata": {},
     "output_type": "execute_result"
    }
   ],
   "source": [
    "loan_ot.head()"
   ]
  },
  {
   "cell_type": "code",
   "execution_count": 96,
   "metadata": {},
   "outputs": [],
   "source": [
    "#Join final loan with final account\n",
    "loan_account = loan_ot.merge(account_disp,on='account_id',suffixes=('_loan','_account'))"
   ]
  },
  {
   "cell_type": "code",
   "execution_count": 97,
   "metadata": {},
   "outputs": [
    {
     "data": {
      "text/html": [
       "<div>\n",
       "<style scoped>\n",
       "    .dataframe tbody tr th:only-of-type {\n",
       "        vertical-align: middle;\n",
       "    }\n",
       "\n",
       "    .dataframe tbody tr th {\n",
       "        vertical-align: top;\n",
       "    }\n",
       "\n",
       "    .dataframe thead th {\n",
       "        text-align: right;\n",
       "    }\n",
       "</style>\n",
       "<table border=\"1\" class=\"dataframe\">\n",
       "  <thead>\n",
       "    <tr style=\"text-align: right;\">\n",
       "      <th></th>\n",
       "      <th>loan_id</th>\n",
       "      <th>account_id</th>\n",
       "      <th>date_loan</th>\n",
       "      <th>status</th>\n",
       "      <th>status2</th>\n",
       "      <th>bank_to</th>\n",
       "      <th>amount_order</th>\n",
       "      <th>type_loan</th>\n",
       "      <th>amount</th>\n",
       "      <th>balance</th>\n",
       "      <th>district_id</th>\n",
       "      <th>frequency</th>\n",
       "      <th>date_account</th>\n",
       "      <th>type_account</th>\n",
       "      <th>issued</th>\n",
       "      <th>gender</th>\n",
       "      <th>birth_date</th>\n",
       "    </tr>\n",
       "  </thead>\n",
       "  <tbody>\n",
       "    <tr>\n",
       "      <th>0</th>\n",
       "      <td>4986</td>\n",
       "      <td>97</td>\n",
       "      <td>1997-08-10</td>\n",
       "      <td>A</td>\n",
       "      <td>A</td>\n",
       "      <td>ST</td>\n",
       "      <td>1436.0</td>\n",
       "      <td>PRIJEM</td>\n",
       "      <td>900</td>\n",
       "      <td>900</td>\n",
       "      <td>74</td>\n",
       "      <td>POPLATEK MESICNE</td>\n",
       "      <td>1996-05-05</td>\n",
       "      <td>classic</td>\n",
       "      <td>1998-06-23</td>\n",
       "      <td>M</td>\n",
       "      <td>1942-01-28</td>\n",
       "    </tr>\n",
       "    <tr>\n",
       "      <th>1</th>\n",
       "      <td>4986</td>\n",
       "      <td>97</td>\n",
       "      <td>1997-08-10</td>\n",
       "      <td>A</td>\n",
       "      <td>A</td>\n",
       "      <td>ST</td>\n",
       "      <td>1436.0</td>\n",
       "      <td>PRIJEM</td>\n",
       "      <td>17928</td>\n",
       "      <td>18828</td>\n",
       "      <td>74</td>\n",
       "      <td>POPLATEK MESICNE</td>\n",
       "      <td>1996-05-05</td>\n",
       "      <td>classic</td>\n",
       "      <td>1998-06-23</td>\n",
       "      <td>M</td>\n",
       "      <td>1942-01-28</td>\n",
       "    </tr>\n",
       "  </tbody>\n",
       "</table>\n",
       "</div>"
      ],
      "text/plain": [
       "   loan_id  account_id   date_loan status status2 bank_to  amount_order  \\\n",
       "0     4986          97  1997-08-10      A       A      ST        1436.0   \n",
       "1     4986          97  1997-08-10      A       A      ST        1436.0   \n",
       "\n",
       "  type_loan  amount  balance  district_id         frequency date_account  \\\n",
       "0    PRIJEM     900      900           74  POPLATEK MESICNE   1996-05-05   \n",
       "1    PRIJEM   17928    18828           74  POPLATEK MESICNE   1996-05-05   \n",
       "\n",
       "  type_account      issued gender  birth_date  \n",
       "0      classic  1998-06-23      M  1942-01-28  \n",
       "1      classic  1998-06-23      M  1942-01-28  "
      ]
     },
     "execution_count": 97,
     "metadata": {},
     "output_type": "execute_result"
    }
   ],
   "source": [
    "loan_account.head(2)"
   ]
  },
  {
   "cell_type": "code",
   "execution_count": 98,
   "metadata": {},
   "outputs": [],
   "source": [
    "#Join final loan/account with district\n",
    "loan_final = loan_account.merge(district,on='district_id').drop(columns=['A2','A12','A15'])"
   ]
  },
  {
   "cell_type": "code",
   "execution_count": 99,
   "metadata": {},
   "outputs": [
    {
     "data": {
      "text/html": [
       "<div>\n",
       "<style scoped>\n",
       "    .dataframe tbody tr th:only-of-type {\n",
       "        vertical-align: middle;\n",
       "    }\n",
       "\n",
       "    .dataframe tbody tr th {\n",
       "        vertical-align: top;\n",
       "    }\n",
       "\n",
       "    .dataframe thead th {\n",
       "        text-align: right;\n",
       "    }\n",
       "</style>\n",
       "<table border=\"1\" class=\"dataframe\">\n",
       "  <thead>\n",
       "    <tr style=\"text-align: right;\">\n",
       "      <th></th>\n",
       "      <th>loan_id</th>\n",
       "      <th>account_id</th>\n",
       "      <th>date_loan</th>\n",
       "      <th>status</th>\n",
       "      <th>status2</th>\n",
       "      <th>bank_to</th>\n",
       "      <th>amount_order</th>\n",
       "      <th>type_loan</th>\n",
       "      <th>amount</th>\n",
       "      <th>balance</th>\n",
       "      <th>district_id</th>\n",
       "      <th>frequency</th>\n",
       "      <th>date_account</th>\n",
       "      <th>type_account</th>\n",
       "      <th>issued</th>\n",
       "      <th>gender</th>\n",
       "      <th>birth_date</th>\n",
       "      <th>A3</th>\n",
       "      <th>A4</th>\n",
       "      <th>A5</th>\n",
       "      <th>A6</th>\n",
       "      <th>A7</th>\n",
       "      <th>A8</th>\n",
       "      <th>A9</th>\n",
       "      <th>A10</th>\n",
       "      <th>A11</th>\n",
       "      <th>A13</th>\n",
       "      <th>A14</th>\n",
       "      <th>A16</th>\n",
       "    </tr>\n",
       "  </thead>\n",
       "  <tbody>\n",
       "    <tr>\n",
       "      <th>0</th>\n",
       "      <td>4986</td>\n",
       "      <td>97</td>\n",
       "      <td>1997-08-10</td>\n",
       "      <td>A</td>\n",
       "      <td>A</td>\n",
       "      <td>ST</td>\n",
       "      <td>1436.0</td>\n",
       "      <td>PRIJEM</td>\n",
       "      <td>900</td>\n",
       "      <td>900</td>\n",
       "      <td>74</td>\n",
       "      <td>POPLATEK MESICNE</td>\n",
       "      <td>1996-05-05</td>\n",
       "      <td>classic</td>\n",
       "      <td>1998-06-23</td>\n",
       "      <td>M</td>\n",
       "      <td>1942-01-28</td>\n",
       "      <td>north Moravia</td>\n",
       "      <td>323870</td>\n",
       "      <td>0</td>\n",
       "      <td>0</td>\n",
       "      <td>0</td>\n",
       "      <td>1</td>\n",
       "      <td>1</td>\n",
       "      <td>100.0</td>\n",
       "      <td>10673</td>\n",
       "      <td>5.44</td>\n",
       "      <td>100</td>\n",
       "      <td>18347</td>\n",
       "    </tr>\n",
       "    <tr>\n",
       "      <th>1</th>\n",
       "      <td>4986</td>\n",
       "      <td>97</td>\n",
       "      <td>1997-08-10</td>\n",
       "      <td>A</td>\n",
       "      <td>A</td>\n",
       "      <td>ST</td>\n",
       "      <td>1436.0</td>\n",
       "      <td>PRIJEM</td>\n",
       "      <td>17928</td>\n",
       "      <td>18828</td>\n",
       "      <td>74</td>\n",
       "      <td>POPLATEK MESICNE</td>\n",
       "      <td>1996-05-05</td>\n",
       "      <td>classic</td>\n",
       "      <td>1998-06-23</td>\n",
       "      <td>M</td>\n",
       "      <td>1942-01-28</td>\n",
       "      <td>north Moravia</td>\n",
       "      <td>323870</td>\n",
       "      <td>0</td>\n",
       "      <td>0</td>\n",
       "      <td>0</td>\n",
       "      <td>1</td>\n",
       "      <td>1</td>\n",
       "      <td>100.0</td>\n",
       "      <td>10673</td>\n",
       "      <td>5.44</td>\n",
       "      <td>100</td>\n",
       "      <td>18347</td>\n",
       "    </tr>\n",
       "  </tbody>\n",
       "</table>\n",
       "</div>"
      ],
      "text/plain": [
       "   loan_id  account_id   date_loan status status2 bank_to  amount_order  \\\n",
       "0     4986          97  1997-08-10      A       A      ST        1436.0   \n",
       "1     4986          97  1997-08-10      A       A      ST        1436.0   \n",
       "\n",
       "  type_loan  amount  balance  district_id         frequency date_account  \\\n",
       "0    PRIJEM     900      900           74  POPLATEK MESICNE   1996-05-05   \n",
       "1    PRIJEM   17928    18828           74  POPLATEK MESICNE   1996-05-05   \n",
       "\n",
       "  type_account      issued gender  birth_date             A3      A4  A5  A6  \\\n",
       "0      classic  1998-06-23      M  1942-01-28  north Moravia  323870   0   0   \n",
       "1      classic  1998-06-23      M  1942-01-28  north Moravia  323870   0   0   \n",
       "\n",
       "   A7  A8  A9    A10    A11   A13  A14    A16  \n",
       "0   0   1   1  100.0  10673  5.44  100  18347  \n",
       "1   0   1   1  100.0  10673  5.44  100  18347  "
      ]
     },
     "execution_count": 99,
     "metadata": {},
     "output_type": "execute_result"
    }
   ],
   "source": [
    "loan_final.head(2)"
   ]
  },
  {
   "cell_type": "code",
   "execution_count": 262,
   "metadata": {},
   "outputs": [],
   "source": [
    "data = loan_final.drop(columns=['status','loan_id','account_id','district_id',\n",
    "                                'date_loan','date_account','issued','birth_date'])"
   ]
  },
  {
   "cell_type": "code",
   "execution_count": 263,
   "metadata": {},
   "outputs": [
    {
     "data": {
      "text/plain": [
       "Index(['status2', 'bank_to', 'amount_order', 'type_loan', 'amount', 'balance',\n",
       "       'frequency', 'type_account', 'gender', 'A3', 'A4', 'A5', 'A6', 'A7',\n",
       "       'A8', 'A9', 'A10', 'A11', 'A13', 'A14', 'A16'],\n",
       "      dtype='object')"
      ]
     },
     "execution_count": 263,
     "metadata": {},
     "output_type": "execute_result"
    }
   ],
   "source": [
    "data.columns"
   ]
  },
  {
   "cell_type": "code",
   "execution_count": 264,
   "metadata": {},
   "outputs": [
    {
     "data": {
      "text/plain": [
       "status2             2\n",
       "bank_to            13\n",
       "amount_order      339\n",
       "type_loan           3\n",
       "amount           7054\n",
       "balance         36286\n",
       "frequency           3\n",
       "type_account        3\n",
       "gender              2\n",
       "A3                  8\n",
       "A4                 60\n",
       "A5                 44\n",
       "A6                 30\n",
       "A7                 16\n",
       "A8                  6\n",
       "A9                 11\n",
       "A10                54\n",
       "A11                59\n",
       "A13                56\n",
       "A14                36\n",
       "A16                60\n",
       "dtype: int64"
      ]
     },
     "execution_count": 264,
     "metadata": {},
     "output_type": "execute_result"
    }
   ],
   "source": [
    "data.nunique()"
   ]
  },
  {
   "cell_type": "code",
   "execution_count": 265,
   "metadata": {},
   "outputs": [
    {
     "data": {
      "text/plain": [
       "(104904, 21)"
      ]
     },
     "execution_count": 265,
     "metadata": {},
     "output_type": "execute_result"
    }
   ],
   "source": [
    "data.shape"
   ]
  },
  {
   "cell_type": "code",
   "execution_count": 266,
   "metadata": {},
   "outputs": [],
   "source": [
    "binary_variables = ['gender']\n",
    "\n",
    "continuous_variables = [#'amount_loan', 'duration', 'payments', \n",
    "                        'amount_order','amount', 'balance',\n",
    "                        'A4', 'A5', 'A6', 'A7', 'A8', 'A9', \n",
    "                        'A10', 'A11', 'A13', 'A14', \n",
    "                        'A16']\n",
    "\n",
    "target_variables = ['status2']\n",
    "\n",
    "nominal_cat_variables = [x for x in data.columns.to_list() if x not in set(binary_variables + continuous_variables + target_variables)]"
   ]
  },
  {
   "cell_type": "code",
   "execution_count": 267,
   "metadata": {},
   "outputs": [],
   "source": [
    "from sklearn.model_selection import train_test_split\n",
    "from sklearn.compose import ColumnTransformer\n",
    "from sklearn.preprocessing import OneHotEncoder, OrdinalEncoder\n",
    "\n",
    "#Set x and y variables\n",
    "x = data.drop(columns = 'status2')\n",
    "y = data.status2\n",
    "\n",
    "#Train test split\n",
    "x_train, x_test, y_train, y_test = train_test_split(x,y,\n",
    "                                                    test_size = 0.2,\n",
    "                                                    random_state = 42)\n",
    "\n",
    "data_transformer = ColumnTransformer(transformers=[\n",
    "    ('continuous', 'passthrough', continuous_variables),\n",
    "    ('binary', OrdinalEncoder(), binary_variables),\n",
    "    ('nominal', OneHotEncoder(sparse=False), nominal_cat_variables)],\n",
    "                                    remainder = 'drop')"
   ]
  },
  {
   "cell_type": "markdown",
   "metadata": {},
   "source": [
    "# Feature Selection"
   ]
  },
  {
   "cell_type": "code",
   "execution_count": 268,
   "metadata": {},
   "outputs": [],
   "source": [
    "from sklearn.feature_selection import VarianceThreshold\n",
    "from sklearn.preprocessing import MinMaxScaler\n",
    "from sklearn.pipeline import Pipeline"
   ]
  },
  {
   "cell_type": "code",
   "execution_count": 269,
   "metadata": {},
   "outputs": [
    {
     "data": {
      "text/plain": [
       "Pipeline(memory=None,\n",
       "         steps=[('scaler', MinMaxScaler(copy=True, feature_range=(0, 1))),\n",
       "                ('var_thres', VarianceThreshold(threshold=0.1))],\n",
       "         verbose=False)"
      ]
     },
     "execution_count": 269,
     "metadata": {},
     "output_type": "execute_result"
    }
   ],
   "source": [
    "variance_picking = Pipeline([('scaler', MinMaxScaler()),\n",
    "                            ('var_thres', VarianceThreshold(threshold=0.1))])\n",
    "\n",
    "variance_picking.fit(x_train[continuous_variables])"
   ]
  },
  {
   "cell_type": "code",
   "execution_count": 270,
   "metadata": {},
   "outputs": [
    {
     "data": {
      "text/plain": [
       "<matplotlib.axes._subplots.AxesSubplot at 0x7f9fb38dbad0>"
      ]
     },
     "execution_count": 270,
     "metadata": {},
     "output_type": "execute_result"
    },
    {
     "data": {
      "image/png": "[encoded data removed]",
      "text/plain": [
       "<Figure size 432x288 with 1 Axes>"
      ]
     },
     "metadata": {
      "needs_background": "light"
     },
     "output_type": "display_data"
    }
   ],
   "source": [
    "sns.barplot(variance_picking.named_steps['var_thres'].variances_.round(3),continuous_variables)"
   ]
  },
  {
   "cell_type": "code",
   "execution_count": 271,
   "metadata": {},
   "outputs": [
    {
     "data": {
      "text/plain": [
       "['A4', 'A10', 'A16']"
      ]
     },
     "execution_count": 271,
     "metadata": {},
     "output_type": "execute_result"
    }
   ],
   "source": [
    "new_continuous_variables = [continuous_variables[value] \n",
    "                            for value in variance_picking.named_steps['var_thres'].get_support(indices=True)]\n",
    "new_continuous_variables\n",
    "\n",
    "# Univariate Selection"
   ]
  },
  {
   "cell_type": "markdown",
   "metadata": {},
   "source": [
    "# Univariate Selection"
   ]
  },
  {
   "cell_type": "code",
   "execution_count": 272,
   "metadata": {},
   "outputs": [
    {
     "data": {
      "text/plain": [
       "['gender', 'bank_to', 'type_loan', 'frequency', 'type_account', 'A3']"
      ]
     },
     "execution_count": 272,
     "metadata": {},
     "output_type": "execute_result"
    }
   ],
   "source": [
    "combined_cat_variables = binary_variables + nominal_cat_variables\n",
    "combined_cat_variables"
   ]
  },
  {
   "cell_type": "code",
   "execution_count": 273,
   "metadata": {},
   "outputs": [
    {
     "data": {
      "text/plain": [
       "Pipeline(memory=None,\n",
       "         steps=[('ordinal_transform',\n",
       "                 OrdinalEncoder(categories='auto',\n",
       "                                dtype=<class 'numpy.float64'>)),\n",
       "                ('SelectK',\n",
       "                 SelectKBest(k=2,\n",
       "                             score_func=<function chi2 at 0x7f9faff67e60>))],\n",
       "         verbose=False)"
      ]
     },
     "execution_count": 273,
     "metadata": {},
     "output_type": "execute_result"
    }
   ],
   "source": [
    "from sklearn.feature_selection import chi2, SelectKBest\n",
    "\n",
    "chi2_pipe_k = Pipeline([('ordinal_transform', OrdinalEncoder()),\n",
    "                        ('SelectK', SelectKBest(score_func = chi2,\n",
    "                                                k = 2))])\n",
    "\n",
    "chi2_pipe_k.fit(x_train[combined_cat_variables],y_train)"
   ]
  },
  {
   "cell_type": "code",
   "execution_count": 274,
   "metadata": {},
   "outputs": [
    {
     "data": {
      "text/plain": [
       "['gender', 'type_account']"
      ]
     },
     "execution_count": 274,
     "metadata": {},
     "output_type": "execute_result"
    }
   ],
   "source": [
    "new_categorical_variables = [combined_cat_variables[value] \n",
    "                               for value in chi2_pipe_k.named_steps['SelectK'].get_support(indices=True)]\n",
    "new_categorical_variables"
   ]
  },
  {
   "cell_type": "code",
   "execution_count": 275,
   "metadata": {},
   "outputs": [
    {
     "data": {
      "text/plain": [
       "Pipeline(memory=None,\n",
       "         steps=[('ordinal_transform',\n",
       "                 OrdinalEncoder(categories='auto',\n",
       "                                dtype=<class 'numpy.float64'>)),\n",
       "                ('Selectfwe',\n",
       "                 SelectFwe(alpha=0.05,\n",
       "                           score_func=<function chi2 at 0x7f9faff67e60>))],\n",
       "         verbose=False)"
      ]
     },
     "execution_count": 275,
     "metadata": {},
     "output_type": "execute_result"
    }
   ],
   "source": [
    "from sklearn.feature_selection import SelectFwe\n",
    "\n",
    "chi2_pipe_fwe = Pipeline([('ordinal_transform', OrdinalEncoder()),\n",
    "                         ('Selectfwe', SelectFwe(score_func = chi2, \n",
    "                                                 alpha = 0.05))])\n",
    "\n",
    "chi2_pipe_fwe.fit(x_train[new_categorical_variables], y_train)"
   ]
  },
  {
   "cell_type": "code",
   "execution_count": 276,
   "metadata": {},
   "outputs": [
    {
     "data": {
      "text/plain": [
       "['gender', 'type_account']"
      ]
     },
     "execution_count": 276,
     "metadata": {},
     "output_type": "execute_result"
    }
   ],
   "source": [
    "final_categorical_variables = [new_categorical_variables[value] \n",
    "                               for value in chi2_pipe_fwe.named_steps['Selectfwe'].get_support(indices=True)]\n",
    "final_categorical_variables"
   ]
  },
  {
   "cell_type": "markdown",
   "metadata": {},
   "source": [
    "# ANOVA"
   ]
  },
  {
   "cell_type": "code",
   "execution_count": 277,
   "metadata": {},
   "outputs": [
    {
     "data": {
      "text/plain": [
       "Pipeline(memory=None,\n",
       "         steps=[('scaler',\n",
       "                 StandardScaler(copy=True, with_mean=True, with_std=True)),\n",
       "                ('anova',\n",
       "                 SelectKBest(k='all',\n",
       "                             score_func=<function f_classif at 0x7f9faff7c8c0>))],\n",
       "         verbose=False)"
      ]
     },
     "execution_count": 277,
     "metadata": {},
     "output_type": "execute_result"
    }
   ],
   "source": [
    "from sklearn.feature_selection import f_classif\n",
    "from sklearn.preprocessing import StandardScaler\n",
    "\n",
    "anova_pipe = Pipeline([('scaler', StandardScaler()),\n",
    "                        ('anova', SelectKBest(score_func = f_classif,\n",
    "                                             k = 'all'))])\n",
    "\n",
    "anova_pipe.fit(x_train[new_continuous_variables], y_train)"
   ]
  },
  {
   "cell_type": "code",
   "execution_count": 278,
   "metadata": {},
   "outputs": [
    {
     "data": {
      "text/plain": [
       "Pipeline(memory=None,\n",
       "         steps=[('scaler',\n",
       "                 StandardScaler(copy=True, with_mean=True, with_std=True)),\n",
       "                ('select',\n",
       "                 SelectFwe(alpha=0.05,\n",
       "                           score_func=<function f_classif at 0x7f9faff7c8c0>))],\n",
       "         verbose=False)"
      ]
     },
     "execution_count": 278,
     "metadata": {},
     "output_type": "execute_result"
    }
   ],
   "source": [
    "anova_pipe_fwe = Pipeline([('scaler', StandardScaler()),\n",
    "                           ('select', SelectFwe(score_func = f_classif,\n",
    "                                                alpha = 0.05))])\n",
    "\n",
    "anova_pipe_fwe.fit(x_train[new_continuous_variables], y_train)"
   ]
  },
  {
   "cell_type": "code",
   "execution_count": 279,
   "metadata": {},
   "outputs": [
    {
     "data": {
      "text/plain": [
       "['A4', 'A10', 'A16']"
      ]
     },
     "execution_count": 279,
     "metadata": {},
     "output_type": "execute_result"
    }
   ],
   "source": [
    "final_continuous_variables = [new_continuous_variables[value] \n",
    "                              for value in anova_pipe_fwe.named_steps['select'].get_support(indices=True)]\n",
    "final_continuous_variables"
   ]
  },
  {
   "cell_type": "markdown",
   "metadata": {},
   "source": [
    "# Modelling"
   ]
  },
  {
   "cell_type": "code",
   "execution_count": 280,
   "metadata": {},
   "outputs": [],
   "source": [
    "from sklearn.metrics import recall_score\n",
    "from sklearn.metrics import confusion_matrix"
   ]
  },
  {
   "cell_type": "code",
   "execution_count": 281,
   "metadata": {},
   "outputs": [],
   "source": [
    "from sklearn.compose import ColumnTransformer\n",
    "\n",
    "data_transformer = ColumnTransformer(transformers = [\n",
    "                                    ('continuous','passthrough', final_continuous_variables),\n",
    "                                    ('binary', OrdinalEncoder(), final_categorical_variables)],\n",
    "                                    remainder = 'drop')"
   ]
  },
  {
   "cell_type": "markdown",
   "metadata": {},
   "source": [
    "## Null Model"
   ]
  },
  {
   "cell_type": "code",
   "execution_count": 282,
   "metadata": {},
   "outputs": [
    {
     "data": {
      "text/plain": [
       "Pipeline(memory=None,\n",
       "         steps=[('transform',\n",
       "                 ColumnTransformer(n_jobs=None, remainder='drop',\n",
       "                                   sparse_threshold=0.3,\n",
       "                                   transformer_weights=None,\n",
       "                                   transformers=[('continuous', 'passthrough',\n",
       "                                                  ['A4', 'A10', 'A16']),\n",
       "                                                 ('binary',\n",
       "                                                  OrdinalEncoder(categories='auto',\n",
       "                                                                 dtype=<class 'numpy.float64'>),\n",
       "                                                  ['gender', 'type_account'])],\n",
       "                                   verbose=False)),\n",
       "                ('dt',\n",
       "                 DecisionTreeClassifier(ccp_alpha=0.0, class_weight=None,\n",
       "                                        criterion='gini', max_depth=None,\n",
       "                                        max_features=None, max_leaf_nodes=None,\n",
       "                                        min_impurity_decrease=0.0,\n",
       "                                        min_impurity_split=None,\n",
       "                                        min_samples_leaf=1, min_samples_split=2,\n",
       "                                        min_weight_fraction_leaf=0.0,\n",
       "                                        presort='deprecated', random_state=42,\n",
       "                                        splitter='best'))],\n",
       "         verbose=False)"
      ]
     },
     "execution_count": 282,
     "metadata": {},
     "output_type": "execute_result"
    }
   ],
   "source": [
    "from sklearn.tree import DecisionTreeClassifier\n",
    "\n",
    "dt_null = Pipeline(steps= [('transform', data_transformer),\n",
    "                           ('dt',DecisionTreeClassifier(random_state=42))])\n",
    "\n",
    "dt_null.fit(x_train, y_train)"
   ]
  },
  {
   "cell_type": "code",
   "execution_count": 283,
   "metadata": {},
   "outputs": [],
   "source": [
    "y_train_dt = dt_null.predict(x_train)\n",
    "y_test_dt = dt_null.predict(x_test)"
   ]
  },
  {
   "cell_type": "code",
   "execution_count": 284,
   "metadata": {},
   "outputs": [
    {
     "name": "stdout",
     "output_type": "stream",
     "text": [
      "0.998532892790216\n",
      "0.9983262774441272\n"
     ]
    }
   ],
   "source": [
    "print(recall_score(y_train, y_train_dt, labels=['A','D'],pos_label='A'))\n",
    "print(recall_score(y_test, y_test_dt, labels=['A','D'],pos_label='A'))"
   ]
  },
  {
   "cell_type": "code",
   "execution_count": 285,
   "metadata": {},
   "outputs": [
    {
     "name": "stdout",
     "output_type": "stream",
     "text": [
      "[[80993   119]\n",
      " [  421  2390]]\n",
      "[[20280    34]\n",
      " [  104   563]]\n"
     ]
    }
   ],
   "source": [
    "print(confusion_matrix(y_train, y_train_dt))\n",
    "print(confusion_matrix(y_test, y_test_dt))"
   ]
  },
  {
   "cell_type": "code",
   "execution_count": 286,
   "metadata": {},
   "outputs": [
    {
     "data": {
      "image/png": "[encoded data removed]",
      "text/plain": [
       "<Figure size 432x288 with 1 Axes>"
      ]
     },
     "metadata": {
      "needs_background": "light"
     },
     "output_type": "display_data"
    }
   ],
   "source": [
    "final_columns = final_continuous_variables + final_categorical_variables\n",
    "\n",
    "sns.barplot(dt_null[-1].feature_importances_.round(3),\n",
    "            final_columns)\n",
    "\n",
    "plt.title('Feature Importance')\n",
    "plt.show()"
   ]
  },
  {
   "cell_type": "markdown",
   "metadata": {},
   "source": [
    "## Random Forest"
   ]
  },
  {
   "cell_type": "code",
   "execution_count": 288,
   "metadata": {},
   "outputs": [],
   "source": [
    "from sklearn.ensemble import RandomForestClassifier\n",
    "from sklearn.model_selection import GridSearchCV\n",
    "\n",
    "rf_pipe = Pipeline([('transform', data_transformer),\n",
    "                    ('rf', RandomForestClassifier(n_estimators = 100,\n",
    "                                                  bootstrap = True,\n",
    "                                                  random_state = 42))])\n",
    "\n",
    "params = [{'rf__max_depth': [5, 10, 15, None],\n",
    "           'rf__max_leaf_nodes': [50, 100, 150, None],\n",
    "           'rf__max_features': ['auto', 'log2'],\n",
    "           'rf__max_samples': [0.7, 0.8, 0.9, None]}]\n",
    "\n",
    "rf_gridsearch = GridSearchCV(rf_pipe, params, n_jobs = -1, cv = 3)"
   ]
  },
  {
   "cell_type": "code",
   "execution_count": 289,
   "metadata": {},
   "outputs": [
    {
     "data": {
      "text/plain": [
       "GridSearchCV(cv=3, error_score=nan,\n",
       "             estimator=Pipeline(memory=None,\n",
       "                                steps=[('transform',\n",
       "                                        ColumnTransformer(n_jobs=None,\n",
       "                                                          remainder='drop',\n",
       "                                                          sparse_threshold=0.3,\n",
       "                                                          transformer_weights=None,\n",
       "                                                          transformers=[('continuous',\n",
       "                                                                         'passthrough',\n",
       "                                                                         ['A4',\n",
       "                                                                          'A10',\n",
       "                                                                          'A16']),\n",
       "                                                                        ('binary',\n",
       "                                                                         OrdinalEncoder(categories='auto',\n",
       "                                                                                        dtype=<class 'numpy.float64'>),\n",
       "                                                                         ['gender',\n",
       "                                                                          'type_account'])],\n",
       "                                                          verbose=F...\n",
       "                                                               n_jobs=None,\n",
       "                                                               oob_score=False,\n",
       "                                                               random_state=42,\n",
       "                                                               verbose=0,\n",
       "                                                               warm_start=False))],\n",
       "                                verbose=False),\n",
       "             iid='deprecated', n_jobs=-1,\n",
       "             param_grid=[{'rf__max_depth': [5, 10, 15, None],\n",
       "                          'rf__max_features': ['auto', 'log2'],\n",
       "                          'rf__max_leaf_nodes': [50, 100, 150, None],\n",
       "                          'rf__max_samples': [0.7, 0.8, 0.9, None]}],\n",
       "             pre_dispatch='2*n_jobs', refit=True, return_train_score=False,\n",
       "             scoring=None, verbose=0)"
      ]
     },
     "execution_count": 289,
     "metadata": {},
     "output_type": "execute_result"
    }
   ],
   "source": [
    "rf_gridsearch.fit(x_train, y_train)"
   ]
  },
  {
   "cell_type": "code",
   "execution_count": 290,
   "metadata": {},
   "outputs": [
    {
     "data": {
      "text/plain": [
       "{'rf__max_depth': 10,\n",
       " 'rf__max_features': 'auto',\n",
       " 'rf__max_leaf_nodes': 50,\n",
       " 'rf__max_samples': 0.7}"
      ]
     },
     "execution_count": 290,
     "metadata": {},
     "output_type": "execute_result"
    }
   ],
   "source": [
    "rf_gridsearch.best_params_"
   ]
  },
  {
   "cell_type": "code",
   "execution_count": 291,
   "metadata": {},
   "outputs": [],
   "source": [
    "final_rf = rf_gridsearch.best_estimator_\n",
    "y_train_rf = final_rf.predict(x_train)\n",
    "y_test_rf = final_rf.predict(x_test)"
   ]
  },
  {
   "cell_type": "code",
   "execution_count": 292,
   "metadata": {},
   "outputs": [
    {
     "name": "stdout",
     "output_type": "stream",
     "text": [
      "0.998532892790216\n",
      "0.9983262774441272\n"
     ]
    }
   ],
   "source": [
    "print(recall_score(y_train, y_train_rf, labels=['A','D'],pos_label='A'))\n",
    "print(recall_score(y_test, y_test_rf, labels=['A','D'],pos_label='A'))"
   ]
  },
  {
   "cell_type": "code",
   "execution_count": 293,
   "metadata": {},
   "outputs": [
    {
     "name": "stdout",
     "output_type": "stream",
     "text": [
      "[[80993   119]\n",
      " [  421  2390]]\n",
      "[[20280    34]\n",
      " [  104   563]]\n"
     ]
    }
   ],
   "source": [
    "print(confusion_matrix(y_train, y_train_rf))\n",
    "print(confusion_matrix(y_test, y_test_rf))"
   ]
  },
  {
   "cell_type": "code",
   "execution_count": 312,
   "metadata": {},
   "outputs": [
    {
     "data": {
      "image/png": "[encoded data removed]",
      "text/plain": [
       "<Figure size 432x288 with 1 Axes>"
      ]
     },
     "metadata": {
      "needs_background": "light"
     },
     "output_type": "display_data"
    }
   ],
   "source": [
    "final_columns = final_continuous_variables + final_categorical_variables\n",
    "\n",
    "sns.barplot(final_rf[-1].feature_importances_.round(3),\n",
    "            final_columns)\n",
    "\n",
    "plt.title('Feature Importance')\n",
    "plt.show()"
   ]
  },
  {
   "cell_type": "markdown",
   "metadata": {},
   "source": [
    "# AdaBoost"
   ]
  },
  {
   "cell_type": "code",
   "execution_count": 307,
   "metadata": {
    "scrolled": false
   },
   "outputs": [
    {
     "data": {
      "text/plain": [
       "GridSearchCV(cv=3, error_score=nan,\n",
       "             estimator=Pipeline(memory=None,\n",
       "                                steps=[('transform',\n",
       "                                        ColumnTransformer(n_jobs=None,\n",
       "                                                          remainder='drop',\n",
       "                                                          sparse_threshold=0.3,\n",
       "                                                          transformer_weights=None,\n",
       "                                                          transformers=[('continuous',\n",
       "                                                                         'passthrough',\n",
       "                                                                         ['A4',\n",
       "                                                                          'A10',\n",
       "                                                                          'A16']),\n",
       "                                                                        ('binary',\n",
       "                                                                         OrdinalEncoder(categories='auto',\n",
       "                                                                                        dtype=<class 'numpy.float64'>),\n",
       "                                                                         ['gender',\n",
       "                                                                          'type_account'])],\n",
       "                                                          verbose=False)),\n",
       "                                       ('ada',\n",
       "                                        AdaBoostClassifier(algorithm='SAMME.R',\n",
       "                                                           base_estimator=None,\n",
       "                                                           learning_rate=1.0,\n",
       "                                                           n_estimators=50,\n",
       "                                                           random_state=42))],\n",
       "                                verbose=False),\n",
       "             iid='deprecated', n_jobs=-1,\n",
       "             param_grid=[{'ada__learning_rate': [0.1, 0.5, 1],\n",
       "                          'ada__n_estimators': [10, 50, 100]}],\n",
       "             pre_dispatch='2*n_jobs', refit=True, return_train_score=False,\n",
       "             scoring=None, verbose=0)"
      ]
     },
     "execution_count": 307,
     "metadata": {},
     "output_type": "execute_result"
    }
   ],
   "source": [
    "from sklearn.ensemble import AdaBoostClassifier\n",
    "\n",
    "ada_pipe = Pipeline(steps= [('transform', data_transformer),\n",
    "                           ('ada', AdaBoostClassifier(random_state = 42))])\n",
    "\n",
    "params = [{'ada__learning_rate': [0.1, 0.5, 1],\n",
    "           'ada__n_estimators': [10, 50, 100]}]\n",
    "\n",
    "ada_gridsearch = GridSearchCV(ada_pipe, params, n_jobs = -1, cv = 3)\n",
    "\n",
    "ada_gridsearch.fit(x_train, y_train)"
   ]
  },
  {
   "cell_type": "code",
   "execution_count": 308,
   "metadata": {},
   "outputs": [
    {
     "data": {
      "text/plain": [
       "{'ada__learning_rate': 1, 'ada__n_estimators': 100}"
      ]
     },
     "execution_count": 308,
     "metadata": {},
     "output_type": "execute_result"
    }
   ],
   "source": [
    "ada_gridsearch.best_params_"
   ]
  },
  {
   "cell_type": "code",
   "execution_count": 309,
   "metadata": {},
   "outputs": [],
   "source": [
    "final_ada = ada_gridsearch.best_estimator_\n",
    "y_train_ada = final_ada.predict(x_train)\n",
    "y_test_ada = final_ada.predict(x_test)"
   ]
  },
  {
   "cell_type": "code",
   "execution_count": 310,
   "metadata": {},
   "outputs": [
    {
     "name": "stdout",
     "output_type": "stream",
     "text": [
      "1.0\n",
      "1.0\n"
     ]
    }
   ],
   "source": [
    "print(recall_score(y_train, y_train_ada, labels=['A','D'],pos_label='A'))\n",
    "print(recall_score(y_test, y_test_ada, labels=['A','D'],pos_label='A'))"
   ]
  },
  {
   "cell_type": "code",
   "execution_count": 311,
   "metadata": {},
   "outputs": [
    {
     "name": "stdout",
     "output_type": "stream",
     "text": [
      "[[81112     0]\n",
      " [  743  2068]]\n",
      "[[20314     0]\n",
      " [  188   479]]\n"
     ]
    }
   ],
   "source": [
    "print(confusion_matrix(y_train, y_train_ada))\n",
    "print(confusion_matrix(y_test, y_test_ada))"
   ]
  },
  {
   "cell_type": "code",
   "execution_count": 313,
   "metadata": {},
   "outputs": [
    {
     "data": {
      "image/png": "[encoded data removed]",
      "text/plain": [
       "<Figure size 432x288 with 1 Axes>"
      ]
     },
     "metadata": {
      "needs_background": "light"
     },
     "output_type": "display_data"
    }
   ],
   "source": [
    "final_columns = final_continuous_variables + final_categorical_variables\n",
    "\n",
    "sns.barplot(final_ada[-1].feature_importances_.round(3),\n",
    "            final_columns)\n",
    "\n",
    "plt.title('Feature Importance')\n",
    "plt.show()"
   ]
  },
  {
   "cell_type": "markdown",
   "metadata": {},
   "source": [
    "# Gradient Boost"
   ]
  },
  {
   "cell_type": "code",
   "execution_count": 321,
   "metadata": {},
   "outputs": [
    {
     "data": {
      "text/plain": [
       "GridSearchCV(cv=3, error_score=nan,\n",
       "             estimator=Pipeline(memory=None,\n",
       "                                steps=[('transform',\n",
       "                                        ColumnTransformer(n_jobs=None,\n",
       "                                                          remainder='drop',\n",
       "                                                          sparse_threshold=0.3,\n",
       "                                                          transformer_weights=None,\n",
       "                                                          transformers=[('continuous',\n",
       "                                                                         'passthrough',\n",
       "                                                                         ['A4',\n",
       "                                                                          'A10',\n",
       "                                                                          'A16']),\n",
       "                                                                        ('binary',\n",
       "                                                                         OrdinalEncoder(categories='auto',\n",
       "                                                                                        dtype=<class 'numpy.float64'>),\n",
       "                                                                         ['gender',\n",
       "                                                                          'type_account'])],\n",
       "                                                          verbose=F...\n",
       "                                                                   validation_fraction=0.1,\n",
       "                                                                   verbose=0,\n",
       "                                                                   warm_start=False))],\n",
       "                                verbose=False),\n",
       "             iid='deprecated', n_jobs=-1,\n",
       "             param_grid=[{'gb__max_depth': [5, 10, 15, None],\n",
       "                          'gb__max_features': ['auto', 'log2'],\n",
       "                          'gb__max_leaf_nodes': [50, 100, 150, None],\n",
       "                          'gb__n_iter_no_change': [2, 5, None],\n",
       "                          'gb__validation_fraction': [0.1, 0.3, 0.6]}],\n",
       "             pre_dispatch='2*n_jobs', refit=True, return_train_score=False,\n",
       "             scoring=None, verbose=0)"
      ]
     },
     "execution_count": 321,
     "metadata": {},
     "output_type": "execute_result"
    }
   ],
   "source": [
    "from sklearn.ensemble import GradientBoostingClassifier\n",
    "\n",
    "gb_pipe = Pipeline([('transform', data_transformer),\n",
    "                    ('gb', GradientBoostingClassifier(random_state = 42))])\n",
    "\n",
    "params = [{'gb__max_depth': [5, 10, 15, None],\n",
    "           'gb__max_leaf_nodes': [50, 100, 150, None],\n",
    "           'gb__max_features': ['auto', 'log2'],\n",
    "           'gb__validation_fraction': [0.1, 0.3, 0.6],\n",
    "           'gb__n_iter_no_change': [2, 5, None]}]\n",
    "\n",
    "gb_gridsearch = GridSearchCV(gb_pipe, params, n_jobs = -1, cv = 3)\n",
    "\n",
    "gb_gridsearch.fit(x_train, y_train)"
   ]
  },
  {
   "cell_type": "code",
   "execution_count": 323,
   "metadata": {},
   "outputs": [
    {
     "data": {
      "text/plain": [
       "{'gb__max_depth': 5,\n",
       " 'gb__max_features': 'auto',\n",
       " 'gb__max_leaf_nodes': 50,\n",
       " 'gb__n_iter_no_change': 2,\n",
       " 'gb__validation_fraction': 0.1}"
      ]
     },
     "execution_count": 323,
     "metadata": {},
     "output_type": "execute_result"
    }
   ],
   "source": [
    "gb_gridsearch.best_params_"
   ]
  },
  {
   "cell_type": "code",
   "execution_count": 324,
   "metadata": {},
   "outputs": [],
   "source": [
    "final_gb = gb_gridsearch.best_estimator_\n",
    "y_train_gb = final_gb.predict(x_train)\n",
    "y_test_gb = final_gb.predict(x_test)"
   ]
  },
  {
   "cell_type": "code",
   "execution_count": 325,
   "metadata": {},
   "outputs": [
    {
     "name": "stdout",
     "output_type": "stream",
     "text": [
      "0.998532892790216\n",
      "0.9983262774441272\n"
     ]
    }
   ],
   "source": [
    "print(recall_score(y_train, y_train_gb, labels=['A','D'],pos_label='A'))\n",
    "print(recall_score(y_test, y_test_gb, labels=['A','D'],pos_label='A'))"
   ]
  },
  {
   "cell_type": "code",
   "execution_count": 326,
   "metadata": {},
   "outputs": [
    {
     "name": "stdout",
     "output_type": "stream",
     "text": [
      "[[80993   119]\n",
      " [  421  2390]]\n",
      "[[20280    34]\n",
      " [  104   563]]\n"
     ]
    }
   ],
   "source": [
    "print(confusion_matrix(y_train, y_train_gb))\n",
    "print(confusion_matrix(y_test, y_test_gb))"
   ]
  },
  {
   "cell_type": "code",
   "execution_count": 384,
   "metadata": {},
   "outputs": [
    {
     "data": {
      "image/png": "[encoded data removed]",
      "text/plain": [
       "<Figure size 432x288 with 1 Axes>"
      ]
     },
     "metadata": {
      "needs_background": "light"
     },
     "output_type": "display_data"
    }
   ],
   "source": [
    "final_columns = final_continuous_variables + final_categorical_variables\n",
    "\n",
    "sns.barplot(final_gb[-1].feature_importances_.round(3),\n",
    "            final_columns)\n",
    "\n",
    "plt.title('Feature Importance')\n",
    "plt.show()"
   ]
  },
  {
   "cell_type": "markdown",
   "metadata": {},
   "source": [
    "# Extreme Gradient Boost (XGBoost)"
   ]
  },
  {
   "cell_type": "code",
   "execution_count": 334,
   "metadata": {},
   "outputs": [
    {
     "data": {
      "text/plain": [
       "GridSearchCV(cv=3, error_score=nan,\n",
       "             estimator=Pipeline(memory=None,\n",
       "                                steps=[('transform',\n",
       "                                        ColumnTransformer(n_jobs=None,\n",
       "                                                          remainder='drop',\n",
       "                                                          sparse_threshold=0.3,\n",
       "                                                          transformer_weights=None,\n",
       "                                                          transformers=[('continuous',\n",
       "                                                                         'passthrough',\n",
       "                                                                         ['A4',\n",
       "                                                                          'A10',\n",
       "                                                                          'A16']),\n",
       "                                                                        ('binary',\n",
       "                                                                         OrdinalEncoder(categories='auto',\n",
       "                                                                                        dtype=<class 'numpy.float64'>),\n",
       "                                                                         ['gender',\n",
       "                                                                          'type_account'])],\n",
       "                                                          verbose=F...\n",
       "                                                      subsample=None,\n",
       "                                                      tree_method=None,\n",
       "                                                      validate_parameters=None,\n",
       "                                                      verbosity=None))],\n",
       "                                verbose=False),\n",
       "             iid='deprecated', n_jobs=-1,\n",
       "             param_grid=[{'xgb__colsample_bytree': [0.5, 0.7, 0.9],\n",
       "                          'xgb__learning_rate': [0.1, 0.3, 0.5],\n",
       "                          'xgb__max_depth': [3, 6, 10, None],\n",
       "                          'xgb__n_estimators': [50, 100, 150]}],\n",
       "             pre_dispatch='2*n_jobs', refit=True, return_train_score=False,\n",
       "             scoring=None, verbose=0)"
      ]
     },
     "execution_count": 334,
     "metadata": {},
     "output_type": "execute_result"
    }
   ],
   "source": [
    "import xgboost as xgb\n",
    "\n",
    "xgb_pipe = Pipeline([('transform', data_transformer),\n",
    "                    ('xgb', xgb.XGBClassifier(scale_pos_weight = 1,\n",
    "                                              random_state = 42))])\n",
    "\n",
    "params = [{'xgb__max_depth': [3, 6, 10, None],\n",
    "           'xgb__learning_rate': [0.1, 0.3, 0.5],\n",
    "           'xgb__colsample_bytree': [0.5, 0.7, 0.9],\n",
    "           'xgb__n_estimators': [50, 100, 150]}]\n",
    "\n",
    "xgb_gridsearch = GridSearchCV(xgb_pipe, params, n_jobs = -1, cv = 3)\n",
    "\n",
    "xgb_gridsearch.fit(x_train, y_train)"
   ]
  },
  {
   "cell_type": "code",
   "execution_count": 335,
   "metadata": {},
   "outputs": [
    {
     "data": {
      "text/plain": [
       "{'xgb__colsample_bytree': 0.5,\n",
       " 'xgb__learning_rate': 0.1,\n",
       " 'xgb__max_depth': 3,\n",
       " 'xgb__n_estimators': 150}"
      ]
     },
     "execution_count": 335,
     "metadata": {},
     "output_type": "execute_result"
    }
   ],
   "source": [
    "xgb_gridsearch.best_params_"
   ]
  },
  {
   "cell_type": "code",
   "execution_count": 336,
   "metadata": {},
   "outputs": [],
   "source": [
    "final_xgb = xgb_gridsearch.best_estimator_\n",
    "y_train_xgb = final_xgb.predict(x_train)\n",
    "y_test_xgb = final_xgb.predict(x_test)"
   ]
  },
  {
   "cell_type": "code",
   "execution_count": 337,
   "metadata": {},
   "outputs": [
    {
     "name": "stdout",
     "output_type": "stream",
     "text": [
      "0.998532892790216\n",
      "0.9983262774441272\n"
     ]
    }
   ],
   "source": [
    "print(recall_score(y_train, y_train_xgb, labels=['A','D'],pos_label='A'))\n",
    "print(recall_score(y_test, y_test_xgb, labels=['A','D'],pos_label='A'))"
   ]
  },
  {
   "cell_type": "code",
   "execution_count": 338,
   "metadata": {},
   "outputs": [
    {
     "name": "stdout",
     "output_type": "stream",
     "text": [
      "[[80993   119]\n",
      " [  421  2390]]\n",
      "[[20280    34]\n",
      " [  104   563]]\n"
     ]
    }
   ],
   "source": [
    "print(confusion_matrix(y_train, y_train_xgb))\n",
    "print(confusion_matrix(y_test, y_test_xgb))"
   ]
  },
  {
   "cell_type": "code",
   "execution_count": 385,
   "metadata": {},
   "outputs": [
    {
     "data": {
      "image/png": "[encoded data removed]",
      "text/plain": [
       "<Figure size 432x288 with 1 Axes>"
      ]
     },
     "metadata": {
      "needs_background": "light"
     },
     "output_type": "display_data"
    }
   ],
   "source": [
    "final_columns = final_continuous_variables + final_categorical_variables\n",
    "\n",
    "sns.barplot(final_xgb[-1].feature_importances_.round(3),\n",
    "            final_columns)\n",
    "\n",
    "plt.title('Feature Importance')\n",
    "plt.show()"
   ]
  },
  {
   "cell_type": "markdown",
   "metadata": {},
   "source": [
    "# CatBoost"
   ]
  },
  {
   "cell_type": "code",
   "execution_count": 364,
   "metadata": {},
   "outputs": [
    {
     "data": {
      "text/html": [
       "<div>\n",
       "<style scoped>\n",
       "    .dataframe tbody tr th:only-of-type {\n",
       "        vertical-align: middle;\n",
       "    }\n",
       "\n",
       "    .dataframe tbody tr th {\n",
       "        vertical-align: top;\n",
       "    }\n",
       "\n",
       "    .dataframe thead th {\n",
       "        text-align: right;\n",
       "    }\n",
       "</style>\n",
       "<table border=\"1\" class=\"dataframe\">\n",
       "  <thead>\n",
       "    <tr style=\"text-align: right;\">\n",
       "      <th></th>\n",
       "      <th>status2</th>\n",
       "      <th>bank_to</th>\n",
       "      <th>amount_order</th>\n",
       "      <th>type_loan</th>\n",
       "      <th>amount</th>\n",
       "      <th>balance</th>\n",
       "      <th>frequency</th>\n",
       "      <th>type_account</th>\n",
       "      <th>gender</th>\n",
       "      <th>A3</th>\n",
       "      <th>A4</th>\n",
       "      <th>A5</th>\n",
       "      <th>A6</th>\n",
       "      <th>A7</th>\n",
       "      <th>A8</th>\n",
       "      <th>A9</th>\n",
       "      <th>A10</th>\n",
       "      <th>A11</th>\n",
       "      <th>A13</th>\n",
       "      <th>A14</th>\n",
       "      <th>A16</th>\n",
       "    </tr>\n",
       "  </thead>\n",
       "  <tbody>\n",
       "    <tr>\n",
       "      <th>0</th>\n",
       "      <td>A</td>\n",
       "      <td>ST</td>\n",
       "      <td>1436.0</td>\n",
       "      <td>PRIJEM</td>\n",
       "      <td>900</td>\n",
       "      <td>900</td>\n",
       "      <td>POPLATEK MESICNE</td>\n",
       "      <td>classic</td>\n",
       "      <td>M</td>\n",
       "      <td>north Moravia</td>\n",
       "      <td>323870</td>\n",
       "      <td>0</td>\n",
       "      <td>0</td>\n",
       "      <td>0</td>\n",
       "      <td>1</td>\n",
       "      <td>1</td>\n",
       "      <td>100.0</td>\n",
       "      <td>10673</td>\n",
       "      <td>5.44</td>\n",
       "      <td>100</td>\n",
       "      <td>18347</td>\n",
       "    </tr>\n",
       "    <tr>\n",
       "      <th>1</th>\n",
       "      <td>A</td>\n",
       "      <td>ST</td>\n",
       "      <td>1436.0</td>\n",
       "      <td>PRIJEM</td>\n",
       "      <td>17928</td>\n",
       "      <td>18828</td>\n",
       "      <td>POPLATEK MESICNE</td>\n",
       "      <td>classic</td>\n",
       "      <td>M</td>\n",
       "      <td>north Moravia</td>\n",
       "      <td>323870</td>\n",
       "      <td>0</td>\n",
       "      <td>0</td>\n",
       "      <td>0</td>\n",
       "      <td>1</td>\n",
       "      <td>1</td>\n",
       "      <td>100.0</td>\n",
       "      <td>10673</td>\n",
       "      <td>5.44</td>\n",
       "      <td>100</td>\n",
       "      <td>18347</td>\n",
       "    </tr>\n",
       "    <tr>\n",
       "      <th>2</th>\n",
       "      <td>A</td>\n",
       "      <td>ST</td>\n",
       "      <td>1436.0</td>\n",
       "      <td>PRIJEM</td>\n",
       "      <td>26892</td>\n",
       "      <td>50266</td>\n",
       "      <td>POPLATEK MESICNE</td>\n",
       "      <td>classic</td>\n",
       "      <td>M</td>\n",
       "      <td>north Moravia</td>\n",
       "      <td>323870</td>\n",
       "      <td>0</td>\n",
       "      <td>0</td>\n",
       "      <td>0</td>\n",
       "      <td>1</td>\n",
       "      <td>1</td>\n",
       "      <td>100.0</td>\n",
       "      <td>10673</td>\n",
       "      <td>5.44</td>\n",
       "      <td>100</td>\n",
       "      <td>18347</td>\n",
       "    </tr>\n",
       "    <tr>\n",
       "      <th>3</th>\n",
       "      <td>A</td>\n",
       "      <td>ST</td>\n",
       "      <td>1436.0</td>\n",
       "      <td>PRIJEM</td>\n",
       "      <td>17928</td>\n",
       "      <td>54546</td>\n",
       "      <td>POPLATEK MESICNE</td>\n",
       "      <td>classic</td>\n",
       "      <td>M</td>\n",
       "      <td>north Moravia</td>\n",
       "      <td>323870</td>\n",
       "      <td>0</td>\n",
       "      <td>0</td>\n",
       "      <td>0</td>\n",
       "      <td>1</td>\n",
       "      <td>1</td>\n",
       "      <td>100.0</td>\n",
       "      <td>10673</td>\n",
       "      <td>5.44</td>\n",
       "      <td>100</td>\n",
       "      <td>18347</td>\n",
       "    </tr>\n",
       "    <tr>\n",
       "      <th>4</th>\n",
       "      <td>A</td>\n",
       "      <td>ST</td>\n",
       "      <td>1436.0</td>\n",
       "      <td>PRIJEM</td>\n",
       "      <td>17928</td>\n",
       "      <td>60094</td>\n",
       "      <td>POPLATEK MESICNE</td>\n",
       "      <td>classic</td>\n",
       "      <td>M</td>\n",
       "      <td>north Moravia</td>\n",
       "      <td>323870</td>\n",
       "      <td>0</td>\n",
       "      <td>0</td>\n",
       "      <td>0</td>\n",
       "      <td>1</td>\n",
       "      <td>1</td>\n",
       "      <td>100.0</td>\n",
       "      <td>10673</td>\n",
       "      <td>5.44</td>\n",
       "      <td>100</td>\n",
       "      <td>18347</td>\n",
       "    </tr>\n",
       "  </tbody>\n",
       "</table>\n",
       "</div>"
      ],
      "text/plain": [
       "  status2 bank_to  amount_order type_loan  amount  balance         frequency  \\\n",
       "0       A      ST        1436.0    PRIJEM     900      900  POPLATEK MESICNE   \n",
       "1       A      ST        1436.0    PRIJEM   17928    18828  POPLATEK MESICNE   \n",
       "2       A      ST        1436.0    PRIJEM   26892    50266  POPLATEK MESICNE   \n",
       "3       A      ST        1436.0    PRIJEM   17928    54546  POPLATEK MESICNE   \n",
       "4       A      ST        1436.0    PRIJEM   17928    60094  POPLATEK MESICNE   \n",
       "\n",
       "  type_account gender             A3      A4  A5  A6  A7  A8  A9    A10  \\\n",
       "0      classic      M  north Moravia  323870   0   0   0   1   1  100.0   \n",
       "1      classic      M  north Moravia  323870   0   0   0   1   1  100.0   \n",
       "2      classic      M  north Moravia  323870   0   0   0   1   1  100.0   \n",
       "3      classic      M  north Moravia  323870   0   0   0   1   1  100.0   \n",
       "4      classic      M  north Moravia  323870   0   0   0   1   1  100.0   \n",
       "\n",
       "     A11   A13  A14    A16  \n",
       "0  10673  5.44  100  18347  \n",
       "1  10673  5.44  100  18347  \n",
       "2  10673  5.44  100  18347  \n",
       "3  10673  5.44  100  18347  \n",
       "4  10673  5.44  100  18347  "
      ]
     },
     "execution_count": 364,
     "metadata": {},
     "output_type": "execute_result"
    }
   ],
   "source": [
    "cat_df = data.copy()\n",
    "\n",
    "cat_df.head()"
   ]
  },
  {
   "cell_type": "code",
   "execution_count": 365,
   "metadata": {},
   "outputs": [],
   "source": [
    "from sklearn.preprocessing import LabelEncoder\n",
    "\n",
    "cat_train_le = LabelEncoder()\n",
    "cat_train_le.fit(cat_df['status2'])\n",
    "\n",
    "cat_df['target'] = cat_train_le.transform(cat_df['status2'])"
   ]
  },
  {
   "cell_type": "code",
   "execution_count": 366,
   "metadata": {},
   "outputs": [],
   "source": [
    "cat_x_train, cat_x_test, cat_y_train, cat_y_test = train_test_split(cat_df[final_columns],\n",
    "                                                    cat_df['target'],\n",
    "                                                    random_state = 42)"
   ]
  },
  {
   "cell_type": "code",
   "execution_count": 367,
   "metadata": {},
   "outputs": [
    {
     "data": {
      "text/plain": [
       "['gender', 'type_account']"
      ]
     },
     "execution_count": 367,
     "metadata": {},
     "output_type": "execute_result"
    }
   ],
   "source": [
    "#Set up categorical columns\n",
    "cat_columns = ['gender', 'type_account']\n",
    "cat_columns"
   ]
  },
  {
   "cell_type": "code",
   "execution_count": 379,
   "metadata": {
    "scrolled": true
   },
   "outputs": [
    {
     "name": "stdout",
     "output_type": "stream",
     "text": [
      "Learning rate set to 0.09315\n",
      "0:\tlearn: 0.4505846\ttest: 0.4503657\tbest: 0.4503657 (0)\ttotal: 71.6ms\tremaining: 1m 11s\n",
      "1:\tlearn: 0.2872927\ttest: 0.2870735\tbest: 0.2870735 (1)\ttotal: 145ms\tremaining: 1m 12s\n",
      "2:\tlearn: 0.1970679\ttest: 0.1968272\tbest: 0.1968272 (2)\ttotal: 250ms\tremaining: 1m 23s\n",
      "3:\tlearn: 0.1255441\ttest: 0.1254909\tbest: 0.1254909 (3)\ttotal: 323ms\tremaining: 1m 20s\n",
      "4:\tlearn: 0.0854741\ttest: 0.0855825\tbest: 0.0855825 (4)\ttotal: 392ms\tremaining: 1m 17s\n",
      "5:\tlearn: 0.0605381\ttest: 0.0608193\tbest: 0.0608193 (5)\ttotal: 468ms\tremaining: 1m 17s\n",
      "6:\tlearn: 0.0440256\ttest: 0.0443965\tbest: 0.0443965 (6)\ttotal: 557ms\tremaining: 1m 19s\n",
      "7:\tlearn: 0.0375789\ttest: 0.0378597\tbest: 0.0378597 (7)\ttotal: 631ms\tremaining: 1m 18s\n",
      "8:\tlearn: 0.0316541\ttest: 0.0318618\tbest: 0.0318618 (8)\ttotal: 737ms\tremaining: 1m 21s\n",
      "9:\tlearn: 0.0280158\ttest: 0.0281988\tbest: 0.0281988 (9)\ttotal: 807ms\tremaining: 1m 19s\n",
      "10:\tlearn: 0.0246970\ttest: 0.0248705\tbest: 0.0248705 (10)\ttotal: 909ms\tremaining: 1m 21s\n",
      "11:\tlearn: 0.0225815\ttest: 0.0227557\tbest: 0.0227557 (11)\ttotal: 1.02s\tremaining: 1m 24s\n",
      "12:\tlearn: 0.0211539\ttest: 0.0213224\tbest: 0.0213224 (12)\ttotal: 1.11s\tremaining: 1m 24s\n",
      "13:\tlearn: 0.0197883\ttest: 0.0199527\tbest: 0.0199527 (13)\ttotal: 1.24s\tremaining: 1m 27s\n",
      "14:\tlearn: 0.0193836\ttest: 0.0195337\tbest: 0.0195337 (14)\ttotal: 1.46s\tremaining: 1m 35s\n",
      "15:\tlearn: 0.0187268\ttest: 0.0188845\tbest: 0.0188845 (15)\ttotal: 1.58s\tremaining: 1m 37s\n",
      "16:\tlearn: 0.0183341\ttest: 0.0184807\tbest: 0.0184807 (16)\ttotal: 1.68s\tremaining: 1m 37s\n",
      "17:\tlearn: 0.0178863\ttest: 0.0180373\tbest: 0.0180373 (17)\ttotal: 1.83s\tremaining: 1m 40s\n",
      "18:\tlearn: 0.0176408\ttest: 0.0177899\tbest: 0.0177899 (18)\ttotal: 1.97s\tremaining: 1m 41s\n",
      "19:\tlearn: 0.0175391\ttest: 0.0176808\tbest: 0.0176808 (19)\ttotal: 2.04s\tremaining: 1m 40s\n",
      "20:\tlearn: 0.0174603\ttest: 0.0175952\tbest: 0.0175952 (20)\ttotal: 2.11s\tremaining: 1m 38s\n",
      "21:\tlearn: 0.0173984\ttest: 0.0175273\tbest: 0.0175273 (21)\ttotal: 2.17s\tremaining: 1m 36s\n",
      "22:\tlearn: 0.0173186\ttest: 0.0174413\tbest: 0.0174413 (22)\ttotal: 2.34s\tremaining: 1m 39s\n",
      "23:\tlearn: 0.0172786\ttest: 0.0173964\tbest: 0.0173964 (23)\ttotal: 2.5s\tremaining: 1m 41s\n",
      "24:\tlearn: 0.0169003\ttest: 0.0170118\tbest: 0.0170118 (24)\ttotal: 2.57s\tremaining: 1m 40s\n",
      "25:\tlearn: 0.0168735\ttest: 0.0169810\tbest: 0.0169810 (25)\ttotal: 2.64s\tremaining: 1m 38s\n",
      "26:\tlearn: 0.0166971\ttest: 0.0168025\tbest: 0.0168025 (26)\ttotal: 2.79s\tremaining: 1m 40s\n",
      "27:\tlearn: 0.0165659\ttest: 0.0166688\tbest: 0.0166688 (27)\ttotal: 2.86s\tremaining: 1m 39s\n",
      "28:\tlearn: 0.0165481\ttest: 0.0166477\tbest: 0.0166477 (28)\ttotal: 2.92s\tremaining: 1m 37s\n",
      "29:\tlearn: 0.0165334\ttest: 0.0166301\tbest: 0.0166301 (29)\ttotal: 2.98s\tremaining: 1m 36s\n",
      "30:\tlearn: 0.0163645\ttest: 0.0164645\tbest: 0.0164645 (30)\ttotal: 3.09s\tremaining: 1m 36s\n",
      "31:\tlearn: 0.0163530\ttest: 0.0164508\tbest: 0.0164508 (31)\ttotal: 3.17s\tremaining: 1m 35s\n",
      "32:\tlearn: 0.0163526\ttest: 0.0164508\tbest: 0.0164508 (31)\ttotal: 3.22s\tremaining: 1m 34s\n",
      "33:\tlearn: 0.0162639\ttest: 0.0163645\tbest: 0.0163645 (33)\ttotal: 3.32s\tremaining: 1m 34s\n",
      "34:\tlearn: 0.0162047\ttest: 0.0163052\tbest: 0.0163052 (34)\ttotal: 3.41s\tremaining: 1m 34s\n",
      "35:\tlearn: 0.0161607\ttest: 0.0162609\tbest: 0.0162609 (35)\ttotal: 3.48s\tremaining: 1m 33s\n",
      "36:\tlearn: 0.0161513\ttest: 0.0162497\tbest: 0.0162497 (36)\ttotal: 3.56s\tremaining: 1m 32s\n",
      "37:\tlearn: 0.0161458\ttest: 0.0162429\tbest: 0.0162429 (37)\ttotal: 3.62s\tremaining: 1m 31s\n",
      "38:\tlearn: 0.0161456\ttest: 0.0162429\tbest: 0.0162429 (37)\ttotal: 3.66s\tremaining: 1m 30s\n",
      "39:\tlearn: 0.0161404\ttest: 0.0162364\tbest: 0.0162364 (39)\ttotal: 3.74s\tremaining: 1m 29s\n",
      "40:\tlearn: 0.0160659\ttest: 0.0161622\tbest: 0.0161622 (40)\ttotal: 3.83s\tremaining: 1m 29s\n",
      "41:\tlearn: 0.0160007\ttest: 0.0160958\tbest: 0.0160958 (41)\ttotal: 3.92s\tremaining: 1m 29s\n",
      "42:\tlearn: 0.0159663\ttest: 0.0160620\tbest: 0.0160620 (42)\ttotal: 3.99s\tremaining: 1m 28s\n",
      "43:\tlearn: 0.0159612\ttest: 0.0160558\tbest: 0.0160558 (43)\ttotal: 4.05s\tremaining: 1m 28s\n",
      "44:\tlearn: 0.0159612\ttest: 0.0160558\tbest: 0.0160558 (44)\ttotal: 4.08s\tremaining: 1m 26s\n",
      "45:\tlearn: 0.0159420\ttest: 0.0160376\tbest: 0.0160376 (45)\ttotal: 4.15s\tremaining: 1m 26s\n",
      "46:\tlearn: 0.0159259\ttest: 0.0160221\tbest: 0.0160221 (46)\ttotal: 4.22s\tremaining: 1m 25s\n",
      "47:\tlearn: 0.0159254\ttest: 0.0160222\tbest: 0.0160221 (46)\ttotal: 4.31s\tremaining: 1m 25s\n",
      "48:\tlearn: 0.0159079\ttest: 0.0160053\tbest: 0.0160053 (48)\ttotal: 4.53s\tremaining: 1m 27s\n",
      "49:\tlearn: 0.0159066\ttest: 0.0160041\tbest: 0.0160041 (49)\ttotal: 4.68s\tremaining: 1m 28s\n",
      "50:\tlearn: 0.0158898\ttest: 0.0159882\tbest: 0.0159882 (50)\ttotal: 4.76s\tremaining: 1m 28s\n",
      "51:\tlearn: 0.0158886\ttest: 0.0159871\tbest: 0.0159871 (51)\ttotal: 4.81s\tremaining: 1m 27s\n",
      "52:\tlearn: 0.0158886\ttest: 0.0159871\tbest: 0.0159871 (51)\ttotal: 4.84s\tremaining: 1m 26s\n",
      "53:\tlearn: 0.0158845\ttest: 0.0159828\tbest: 0.0159828 (53)\ttotal: 4.91s\tremaining: 1m 25s\n",
      "54:\tlearn: 0.0158845\ttest: 0.0159828\tbest: 0.0159828 (53)\ttotal: 4.93s\tremaining: 1m 24s\n",
      "55:\tlearn: 0.0158764\ttest: 0.0159751\tbest: 0.0159751 (55)\ttotal: 5.01s\tremaining: 1m 24s\n",
      "56:\tlearn: 0.0158644\ttest: 0.0159650\tbest: 0.0159650 (56)\ttotal: 5.09s\tremaining: 1m 24s\n",
      "57:\tlearn: 0.0158644\ttest: 0.0159650\tbest: 0.0159650 (56)\ttotal: 5.17s\tremaining: 1m 23s\n",
      "58:\tlearn: 0.0158558\ttest: 0.0159556\tbest: 0.0159556 (58)\ttotal: 5.32s\tremaining: 1m 24s\n",
      "59:\tlearn: 0.0158558\ttest: 0.0159556\tbest: 0.0159556 (58)\ttotal: 5.39s\tremaining: 1m 24s\n",
      "60:\tlearn: 0.0158523\ttest: 0.0159521\tbest: 0.0159521 (60)\ttotal: 5.54s\tremaining: 1m 25s\n",
      "61:\tlearn: 0.0158489\ttest: 0.0159488\tbest: 0.0159488 (61)\ttotal: 5.67s\tremaining: 1m 25s\n",
      "62:\tlearn: 0.0158452\ttest: 0.0159465\tbest: 0.0159465 (62)\ttotal: 5.86s\tremaining: 1m 27s\n",
      "63:\tlearn: 0.0158417\ttest: 0.0159436\tbest: 0.0159436 (63)\ttotal: 5.98s\tremaining: 1m 27s\n",
      "64:\tlearn: 0.0158417\ttest: 0.0159436\tbest: 0.0159436 (63)\ttotal: 6.01s\tremaining: 1m 26s\n",
      "65:\tlearn: 0.0158417\ttest: 0.0159436\tbest: 0.0159436 (63)\ttotal: 6.05s\tremaining: 1m 25s\n",
      "66:\tlearn: 0.0158417\ttest: 0.0159436\tbest: 0.0159436 (63)\ttotal: 6.08s\tremaining: 1m 24s\n",
      "67:\tlearn: 0.0158356\ttest: 0.0159379\tbest: 0.0159379 (67)\ttotal: 6.17s\tremaining: 1m 24s\n",
      "68:\tlearn: 0.0158316\ttest: 0.0159352\tbest: 0.0159352 (68)\ttotal: 6.25s\tremaining: 1m 24s\n",
      "69:\tlearn: 0.0158140\ttest: 0.0159173\tbest: 0.0159173 (69)\ttotal: 6.35s\tremaining: 1m 24s\n",
      "70:\tlearn: 0.0158140\ttest: 0.0159173\tbest: 0.0159173 (69)\ttotal: 6.39s\tremaining: 1m 23s\n",
      "71:\tlearn: 0.0158094\ttest: 0.0159132\tbest: 0.0159132 (71)\ttotal: 6.47s\tremaining: 1m 23s\n",
      "72:\tlearn: 0.0158094\ttest: 0.0159133\tbest: 0.0159132 (71)\ttotal: 6.5s\tremaining: 1m 22s\n",
      "73:\tlearn: 0.0158094\ttest: 0.0159133\tbest: 0.0159132 (71)\ttotal: 6.53s\tremaining: 1m 21s\n",
      "74:\tlearn: 0.0158094\ttest: 0.0159133\tbest: 0.0159132 (71)\ttotal: 6.57s\tremaining: 1m 20s\n",
      "75:\tlearn: 0.0158094\ttest: 0.0159133\tbest: 0.0159132 (71)\ttotal: 6.6s\tremaining: 1m 20s\n",
      "76:\tlearn: 0.0158081\ttest: 0.0159128\tbest: 0.0159128 (76)\ttotal: 6.66s\tremaining: 1m 19s\n",
      "77:\tlearn: 0.0158081\ttest: 0.0159128\tbest: 0.0159128 (76)\ttotal: 6.69s\tremaining: 1m 19s\n",
      "78:\tlearn: 0.0158056\ttest: 0.0159105\tbest: 0.0159105 (78)\ttotal: 6.75s\tremaining: 1m 18s\n",
      "79:\tlearn: 0.0158056\ttest: 0.0159105\tbest: 0.0159105 (78)\ttotal: 6.78s\tremaining: 1m 17s\n",
      "80:\tlearn: 0.0158018\ttest: 0.0159078\tbest: 0.0159078 (80)\ttotal: 6.86s\tremaining: 1m 17s\n",
      "81:\tlearn: 0.0158014\ttest: 0.0159076\tbest: 0.0159076 (81)\ttotal: 6.93s\tremaining: 1m 17s\n",
      "82:\tlearn: 0.0158014\ttest: 0.0159076\tbest: 0.0159076 (81)\ttotal: 6.96s\tremaining: 1m 16s\n",
      "83:\tlearn: 0.0158014\ttest: 0.0159076\tbest: 0.0159076 (81)\ttotal: 6.99s\tremaining: 1m 16s\n",
      "84:\tlearn: 0.0157938\ttest: 0.0158999\tbest: 0.0158999 (84)\ttotal: 7.06s\tremaining: 1m 15s\n",
      "85:\tlearn: 0.0157938\ttest: 0.0158999\tbest: 0.0158999 (84)\ttotal: 7.09s\tremaining: 1m 15s\n",
      "86:\tlearn: 0.0157938\ttest: 0.0158999\tbest: 0.0158999 (84)\ttotal: 7.12s\tremaining: 1m 14s\n",
      "87:\tlearn: 0.0157906\ttest: 0.0158940\tbest: 0.0158940 (87)\ttotal: 7.18s\tremaining: 1m 14s\n",
      "88:\tlearn: 0.0157894\ttest: 0.0158929\tbest: 0.0158929 (88)\ttotal: 7.24s\tremaining: 1m 14s\n",
      "89:\tlearn: 0.0157884\ttest: 0.0158919\tbest: 0.0158919 (89)\ttotal: 7.29s\tremaining: 1m 13s\n",
      "90:\tlearn: 0.0157884\ttest: 0.0158919\tbest: 0.0158919 (90)\ttotal: 7.33s\tremaining: 1m 13s\n",
      "91:\tlearn: 0.0157832\ttest: 0.0158892\tbest: 0.0158892 (91)\ttotal: 7.4s\tremaining: 1m 13s\n"
     ]
    },
    {
     "name": "stdout",
     "output_type": "stream",
     "text": [
      "92:\tlearn: 0.0157824\ttest: 0.0158885\tbest: 0.0158885 (92)\ttotal: 7.46s\tremaining: 1m 12s\n",
      "93:\tlearn: 0.0157807\ttest: 0.0158869\tbest: 0.0158869 (93)\ttotal: 7.53s\tremaining: 1m 12s\n",
      "94:\tlearn: 0.0157807\ttest: 0.0158869\tbest: 0.0158869 (93)\ttotal: 7.57s\tremaining: 1m 12s\n",
      "95:\tlearn: 0.0157801\ttest: 0.0158862\tbest: 0.0158862 (95)\ttotal: 7.62s\tremaining: 1m 11s\n",
      "96:\tlearn: 0.0157792\ttest: 0.0158853\tbest: 0.0158853 (96)\ttotal: 7.69s\tremaining: 1m 11s\n",
      "97:\tlearn: 0.0157688\ttest: 0.0158751\tbest: 0.0158751 (97)\ttotal: 7.75s\tremaining: 1m 11s\n",
      "98:\tlearn: 0.0157652\ttest: 0.0158715\tbest: 0.0158715 (98)\ttotal: 7.81s\tremaining: 1m 11s\n",
      "99:\tlearn: 0.0157649\ttest: 0.0158711\tbest: 0.0158711 (99)\ttotal: 7.86s\tremaining: 1m 10s\n",
      "100:\tlearn: 0.0157649\ttest: 0.0158711\tbest: 0.0158711 (99)\ttotal: 7.92s\tremaining: 1m 10s\n",
      "101:\tlearn: 0.0157637\ttest: 0.0158699\tbest: 0.0158699 (101)\ttotal: 7.98s\tremaining: 1m 10s\n",
      "102:\tlearn: 0.0157569\ttest: 0.0158633\tbest: 0.0158633 (102)\ttotal: 8.05s\tremaining: 1m 10s\n",
      "103:\tlearn: 0.0157566\ttest: 0.0158629\tbest: 0.0158629 (103)\ttotal: 8.11s\tremaining: 1m 9s\n",
      "104:\tlearn: 0.0157557\ttest: 0.0158621\tbest: 0.0158621 (104)\ttotal: 8.17s\tremaining: 1m 9s\n",
      "105:\tlearn: 0.0157540\ttest: 0.0158611\tbest: 0.0158611 (105)\ttotal: 8.23s\tremaining: 1m 9s\n",
      "106:\tlearn: 0.0157490\ttest: 0.0158591\tbest: 0.0158591 (106)\ttotal: 8.3s\tremaining: 1m 9s\n",
      "107:\tlearn: 0.0157490\ttest: 0.0158591\tbest: 0.0158591 (107)\ttotal: 8.34s\tremaining: 1m 8s\n",
      "108:\tlearn: 0.0157484\ttest: 0.0158586\tbest: 0.0158586 (108)\ttotal: 8.4s\tremaining: 1m 8s\n",
      "109:\tlearn: 0.0157484\ttest: 0.0158586\tbest: 0.0158586 (108)\ttotal: 8.44s\tremaining: 1m 8s\n",
      "110:\tlearn: 0.0157484\ttest: 0.0158586\tbest: 0.0158586 (108)\ttotal: 8.47s\tremaining: 1m 7s\n",
      "111:\tlearn: 0.0157465\ttest: 0.0158547\tbest: 0.0158547 (111)\ttotal: 8.53s\tremaining: 1m 7s\n",
      "112:\tlearn: 0.0157465\ttest: 0.0158547\tbest: 0.0158547 (111)\ttotal: 8.56s\tremaining: 1m 7s\n",
      "113:\tlearn: 0.0157384\ttest: 0.0158471\tbest: 0.0158471 (113)\ttotal: 8.64s\tremaining: 1m 7s\n",
      "114:\tlearn: 0.0157370\ttest: 0.0158457\tbest: 0.0158457 (114)\ttotal: 8.71s\tremaining: 1m 6s\n",
      "115:\tlearn: 0.0157360\ttest: 0.0158447\tbest: 0.0158447 (115)\ttotal: 8.77s\tremaining: 1m 6s\n",
      "116:\tlearn: 0.0157353\ttest: 0.0158441\tbest: 0.0158441 (116)\ttotal: 8.84s\tremaining: 1m 6s\n",
      "117:\tlearn: 0.0157348\ttest: 0.0158435\tbest: 0.0158435 (117)\ttotal: 8.91s\tremaining: 1m 6s\n",
      "118:\tlearn: 0.0157320\ttest: 0.0158419\tbest: 0.0158419 (118)\ttotal: 8.98s\tremaining: 1m 6s\n",
      "119:\tlearn: 0.0157320\ttest: 0.0158419\tbest: 0.0158419 (118)\ttotal: 9.01s\tremaining: 1m 6s\n",
      "120:\tlearn: 0.0157302\ttest: 0.0158406\tbest: 0.0158406 (120)\ttotal: 9.09s\tremaining: 1m 6s\n",
      "121:\tlearn: 0.0157302\ttest: 0.0158407\tbest: 0.0158406 (120)\ttotal: 9.13s\tremaining: 1m 5s\n",
      "122:\tlearn: 0.0157289\ttest: 0.0158399\tbest: 0.0158399 (122)\ttotal: 9.19s\tremaining: 1m 5s\n",
      "123:\tlearn: 0.0157288\ttest: 0.0158393\tbest: 0.0158393 (123)\ttotal: 9.23s\tremaining: 1m 5s\n",
      "124:\tlearn: 0.0157286\ttest: 0.0158391\tbest: 0.0158391 (124)\ttotal: 9.28s\tremaining: 1m 4s\n",
      "125:\tlearn: 0.0157285\ttest: 0.0158392\tbest: 0.0158391 (124)\ttotal: 9.34s\tremaining: 1m 4s\n",
      "126:\tlearn: 0.0157285\ttest: 0.0158392\tbest: 0.0158391 (124)\ttotal: 9.37s\tremaining: 1m 4s\n",
      "127:\tlearn: 0.0157284\ttest: 0.0158386\tbest: 0.0158386 (127)\ttotal: 9.4s\tremaining: 1m 4s\n",
      "128:\tlearn: 0.0157274\ttest: 0.0158377\tbest: 0.0158377 (128)\ttotal: 9.46s\tremaining: 1m 3s\n",
      "129:\tlearn: 0.0157255\ttest: 0.0158358\tbest: 0.0158358 (129)\ttotal: 9.52s\tremaining: 1m 3s\n",
      "130:\tlearn: 0.0157252\ttest: 0.0158358\tbest: 0.0158358 (129)\ttotal: 9.59s\tremaining: 1m 3s\n",
      "131:\tlearn: 0.0157149\ttest: 0.0158255\tbest: 0.0158255 (131)\ttotal: 9.65s\tremaining: 1m 3s\n",
      "132:\tlearn: 0.0157126\ttest: 0.0158250\tbest: 0.0158250 (132)\ttotal: 9.73s\tremaining: 1m 3s\n",
      "133:\tlearn: 0.0157089\ttest: 0.0158217\tbest: 0.0158217 (133)\ttotal: 9.8s\tremaining: 1m 3s\n",
      "134:\tlearn: 0.0157089\ttest: 0.0158217\tbest: 0.0158217 (133)\ttotal: 9.84s\tremaining: 1m 3s\n",
      "135:\tlearn: 0.0157085\ttest: 0.0158212\tbest: 0.0158212 (135)\ttotal: 9.9s\tremaining: 1m 2s\n",
      "136:\tlearn: 0.0157028\ttest: 0.0158208\tbest: 0.0158208 (136)\ttotal: 9.96s\tremaining: 1m 2s\n",
      "137:\tlearn: 0.0156999\ttest: 0.0158240\tbest: 0.0158208 (136)\ttotal: 10s\tremaining: 1m 2s\n",
      "138:\tlearn: 0.0156932\ttest: 0.0158229\tbest: 0.0158208 (136)\ttotal: 10.1s\tremaining: 1m 2s\n",
      "139:\tlearn: 0.0156921\ttest: 0.0158218\tbest: 0.0158208 (136)\ttotal: 10.2s\tremaining: 1m 2s\n",
      "140:\tlearn: 0.0156889\ttest: 0.0158216\tbest: 0.0158208 (136)\ttotal: 10.2s\tremaining: 1m 2s\n",
      "141:\tlearn: 0.0156889\ttest: 0.0158216\tbest: 0.0158208 (136)\ttotal: 10.3s\tremaining: 1m 2s\n",
      "142:\tlearn: 0.0156850\ttest: 0.0158178\tbest: 0.0158178 (142)\ttotal: 10.3s\tremaining: 1m 1s\n",
      "143:\tlearn: 0.0156850\ttest: 0.0158178\tbest: 0.0158178 (142)\ttotal: 10.4s\tremaining: 1m 1s\n",
      "144:\tlearn: 0.0156801\ttest: 0.0158128\tbest: 0.0158128 (144)\ttotal: 10.4s\tremaining: 1m 1s\n",
      "145:\tlearn: 0.0156801\ttest: 0.0158128\tbest: 0.0158128 (144)\ttotal: 10.5s\tremaining: 1m 1s\n",
      "146:\tlearn: 0.0156773\ttest: 0.0158122\tbest: 0.0158122 (146)\ttotal: 10.5s\tremaining: 1m 1s\n",
      "147:\tlearn: 0.0156773\ttest: 0.0158122\tbest: 0.0158122 (146)\ttotal: 10.6s\tremaining: 1m\n",
      "148:\tlearn: 0.0156754\ttest: 0.0158095\tbest: 0.0158095 (148)\ttotal: 10.6s\tremaining: 1m\n",
      "149:\tlearn: 0.0156751\ttest: 0.0158092\tbest: 0.0158092 (149)\ttotal: 10.7s\tremaining: 1m\n",
      "150:\tlearn: 0.0156750\ttest: 0.0158092\tbest: 0.0158092 (150)\ttotal: 10.8s\tremaining: 1m\n",
      "151:\tlearn: 0.0156709\ttest: 0.0158087\tbest: 0.0158087 (151)\ttotal: 10.8s\tremaining: 1m\n",
      "152:\tlearn: 0.0156698\ttest: 0.0158082\tbest: 0.0158082 (152)\ttotal: 10.9s\tremaining: 1m\n",
      "153:\tlearn: 0.0156698\ttest: 0.0158082\tbest: 0.0158082 (153)\ttotal: 10.9s\tremaining: 1m\n",
      "154:\tlearn: 0.0156692\ttest: 0.0158077\tbest: 0.0158077 (154)\ttotal: 11s\tremaining: 59.9s\n",
      "155:\tlearn: 0.0156692\ttest: 0.0158078\tbest: 0.0158077 (154)\ttotal: 11s\tremaining: 59.7s\n",
      "156:\tlearn: 0.0156670\ttest: 0.0158074\tbest: 0.0158074 (156)\ttotal: 11.1s\tremaining: 59.5s\n",
      "157:\tlearn: 0.0156670\ttest: 0.0158074\tbest: 0.0158074 (156)\ttotal: 11.1s\tremaining: 59.3s\n",
      "158:\tlearn: 0.0156667\ttest: 0.0158070\tbest: 0.0158070 (158)\ttotal: 11.2s\tremaining: 59.2s\n",
      "159:\tlearn: 0.0156627\ttest: 0.0158029\tbest: 0.0158029 (159)\ttotal: 11.3s\tremaining: 59.2s\n",
      "160:\tlearn: 0.0156626\ttest: 0.0158029\tbest: 0.0158029 (160)\ttotal: 11.3s\tremaining: 59s\n",
      "161:\tlearn: 0.0156595\ttest: 0.0158023\tbest: 0.0158023 (161)\ttotal: 11.4s\tremaining: 58.9s\n",
      "162:\tlearn: 0.0156595\ttest: 0.0158023\tbest: 0.0158023 (161)\ttotal: 11.4s\tremaining: 58.7s\n",
      "163:\tlearn: 0.0156591\ttest: 0.0158019\tbest: 0.0158019 (163)\ttotal: 11.5s\tremaining: 58.6s\n",
      "164:\tlearn: 0.0156573\ttest: 0.0158011\tbest: 0.0158011 (164)\ttotal: 11.6s\tremaining: 58.5s\n",
      "165:\tlearn: 0.0156544\ttest: 0.0158004\tbest: 0.0158004 (165)\ttotal: 11.6s\tremaining: 58.5s\n",
      "166:\tlearn: 0.0156516\ttest: 0.0157994\tbest: 0.0157994 (166)\ttotal: 11.8s\tremaining: 58.7s\n",
      "167:\tlearn: 0.0156516\ttest: 0.0157994\tbest: 0.0157994 (166)\ttotal: 12s\tremaining: 59.2s\n",
      "168:\tlearn: 0.0156493\ttest: 0.0157989\tbest: 0.0157989 (168)\ttotal: 12.1s\tremaining: 59.5s\n",
      "169:\tlearn: 0.0156493\ttest: 0.0157989\tbest: 0.0157989 (169)\ttotal: 12.1s\tremaining: 59.2s\n",
      "170:\tlearn: 0.0156480\ttest: 0.0157986\tbest: 0.0157986 (170)\ttotal: 12.2s\tremaining: 59.1s\n",
      "171:\tlearn: 0.0156456\ttest: 0.0157982\tbest: 0.0157982 (171)\ttotal: 12.3s\tremaining: 59.1s\n",
      "172:\tlearn: 0.0156437\ttest: 0.0157979\tbest: 0.0157979 (172)\ttotal: 12.3s\tremaining: 59s\n",
      "173:\tlearn: 0.0156402\ttest: 0.0157985\tbest: 0.0157979 (172)\ttotal: 12.4s\tremaining: 58.9s\n",
      "174:\tlearn: 0.0156379\ttest: 0.0157978\tbest: 0.0157978 (174)\ttotal: 12.5s\tremaining: 58.9s\n",
      "175:\tlearn: 0.0156379\ttest: 0.0157978\tbest: 0.0157978 (175)\ttotal: 12.5s\tremaining: 58.7s\n",
      "176:\tlearn: 0.0156379\ttest: 0.0157978\tbest: 0.0157978 (176)\ttotal: 12.6s\tremaining: 58.8s\n",
      "177:\tlearn: 0.0156372\ttest: 0.0157970\tbest: 0.0157970 (177)\ttotal: 12.8s\tremaining: 59.1s\n",
      "178:\tlearn: 0.0156365\ttest: 0.0157961\tbest: 0.0157961 (178)\ttotal: 13s\tremaining: 59.4s\n",
      "179:\tlearn: 0.0156351\ttest: 0.0157946\tbest: 0.0157946 (179)\ttotal: 13s\tremaining: 59.3s\n",
      "180:\tlearn: 0.0156351\ttest: 0.0157946\tbest: 0.0157946 (180)\ttotal: 13.1s\tremaining: 59.1s\n",
      "181:\tlearn: 0.0156348\ttest: 0.0157943\tbest: 0.0157943 (181)\ttotal: 13.1s\tremaining: 59s\n",
      "182:\tlearn: 0.0156342\ttest: 0.0157935\tbest: 0.0157935 (182)\ttotal: 13.2s\tremaining: 58.9s\n",
      "183:\tlearn: 0.0156337\ttest: 0.0157932\tbest: 0.0157932 (183)\ttotal: 13.4s\tremaining: 59.3s\n",
      "184:\tlearn: 0.0156313\ttest: 0.0157909\tbest: 0.0157909 (184)\ttotal: 13.6s\tremaining: 59.7s\n"
     ]
    },
    {
     "name": "stdout",
     "output_type": "stream",
     "text": [
      "185:\tlearn: 0.0156307\ttest: 0.0157885\tbest: 0.0157885 (185)\ttotal: 13.6s\tremaining: 59.7s\n",
      "186:\tlearn: 0.0156292\ttest: 0.0157883\tbest: 0.0157883 (186)\ttotal: 13.7s\tremaining: 59.5s\n",
      "187:\tlearn: 0.0156287\ttest: 0.0157862\tbest: 0.0157862 (187)\ttotal: 13.8s\tremaining: 59.5s\n",
      "188:\tlearn: 0.0156287\ttest: 0.0157862\tbest: 0.0157862 (187)\ttotal: 13.8s\tremaining: 59.3s\n",
      "189:\tlearn: 0.0156287\ttest: 0.0157862\tbest: 0.0157862 (187)\ttotal: 13.9s\tremaining: 59.1s\n",
      "190:\tlearn: 0.0156266\ttest: 0.0157843\tbest: 0.0157843 (190)\ttotal: 13.9s\tremaining: 59s\n",
      "191:\tlearn: 0.0156241\ttest: 0.0157840\tbest: 0.0157840 (191)\ttotal: 14s\tremaining: 58.9s\n",
      "192:\tlearn: 0.0156217\ttest: 0.0157820\tbest: 0.0157820 (192)\ttotal: 14.1s\tremaining: 58.9s\n",
      "193:\tlearn: 0.0156216\ttest: 0.0157820\tbest: 0.0157820 (193)\ttotal: 14.1s\tremaining: 58.7s\n",
      "194:\tlearn: 0.0156212\ttest: 0.0157817\tbest: 0.0157817 (194)\ttotal: 14.2s\tremaining: 58.7s\n",
      "195:\tlearn: 0.0156212\ttest: 0.0157817\tbest: 0.0157817 (194)\ttotal: 14.3s\tremaining: 58.5s\n",
      "196:\tlearn: 0.0156199\ttest: 0.0157816\tbest: 0.0157816 (196)\ttotal: 14.3s\tremaining: 58.3s\n",
      "197:\tlearn: 0.0156199\ttest: 0.0157816\tbest: 0.0157816 (196)\ttotal: 14.4s\tremaining: 58.2s\n",
      "198:\tlearn: 0.0156199\ttest: 0.0157816\tbest: 0.0157816 (196)\ttotal: 14.4s\tremaining: 58s\n",
      "199:\tlearn: 0.0156199\ttest: 0.0157816\tbest: 0.0157816 (199)\ttotal: 14.5s\tremaining: 57.9s\n",
      "200:\tlearn: 0.0156188\ttest: 0.0157814\tbest: 0.0157814 (200)\ttotal: 14.5s\tremaining: 57.7s\n",
      "201:\tlearn: 0.0156188\ttest: 0.0157814\tbest: 0.0157814 (200)\ttotal: 14.6s\tremaining: 57.5s\n",
      "202:\tlearn: 0.0156188\ttest: 0.0157815\tbest: 0.0157814 (200)\ttotal: 14.6s\tremaining: 57.3s\n",
      "203:\tlearn: 0.0156166\ttest: 0.0157812\tbest: 0.0157812 (203)\ttotal: 14.7s\tremaining: 57.3s\n",
      "204:\tlearn: 0.0156163\ttest: 0.0157807\tbest: 0.0157807 (204)\ttotal: 14.8s\tremaining: 57.3s\n",
      "205:\tlearn: 0.0156163\ttest: 0.0157807\tbest: 0.0157807 (205)\ttotal: 14.8s\tremaining: 57.1s\n",
      "206:\tlearn: 0.0156163\ttest: 0.0157807\tbest: 0.0157807 (206)\ttotal: 14.9s\tremaining: 56.9s\n",
      "207:\tlearn: 0.0156162\ttest: 0.0157806\tbest: 0.0157806 (207)\ttotal: 14.9s\tremaining: 56.8s\n",
      "208:\tlearn: 0.0156139\ttest: 0.0157804\tbest: 0.0157804 (208)\ttotal: 15s\tremaining: 56.7s\n",
      "209:\tlearn: 0.0156110\ttest: 0.0157802\tbest: 0.0157802 (209)\ttotal: 15.1s\tremaining: 56.7s\n",
      "210:\tlearn: 0.0156108\ttest: 0.0157800\tbest: 0.0157800 (210)\ttotal: 15.2s\tremaining: 56.7s\n",
      "211:\tlearn: 0.0156108\ttest: 0.0157800\tbest: 0.0157800 (210)\ttotal: 15.2s\tremaining: 56.7s\n",
      "212:\tlearn: 0.0156092\ttest: 0.0157784\tbest: 0.0157784 (212)\ttotal: 15.3s\tremaining: 56.6s\n",
      "213:\tlearn: 0.0156074\ttest: 0.0157783\tbest: 0.0157783 (213)\ttotal: 15.4s\tremaining: 56.5s\n",
      "214:\tlearn: 0.0156074\ttest: 0.0157783\tbest: 0.0157783 (213)\ttotal: 15.4s\tremaining: 56.4s\n",
      "215:\tlearn: 0.0156050\ttest: 0.0157781\tbest: 0.0157781 (215)\ttotal: 15.5s\tremaining: 56.3s\n",
      "216:\tlearn: 0.0156040\ttest: 0.0157781\tbest: 0.0157781 (216)\ttotal: 15.6s\tremaining: 56.2s\n",
      "217:\tlearn: 0.0156040\ttest: 0.0157781\tbest: 0.0157781 (217)\ttotal: 15.6s\tremaining: 56s\n",
      "218:\tlearn: 0.0156040\ttest: 0.0157781\tbest: 0.0157781 (217)\ttotal: 15.7s\tremaining: 55.8s\n",
      "219:\tlearn: 0.0156040\ttest: 0.0157781\tbest: 0.0157781 (217)\ttotal: 15.7s\tremaining: 55.7s\n",
      "220:\tlearn: 0.0156037\ttest: 0.0157776\tbest: 0.0157776 (220)\ttotal: 15.8s\tremaining: 55.6s\n",
      "221:\tlearn: 0.0156027\ttest: 0.0157783\tbest: 0.0157776 (220)\ttotal: 15.8s\tremaining: 55.5s\n",
      "222:\tlearn: 0.0156023\ttest: 0.0157765\tbest: 0.0157765 (222)\ttotal: 15.9s\tremaining: 55.3s\n",
      "223:\tlearn: 0.0156023\ttest: 0.0157765\tbest: 0.0157765 (222)\ttotal: 15.9s\tremaining: 55.2s\n",
      "224:\tlearn: 0.0156022\ttest: 0.0157765\tbest: 0.0157765 (224)\ttotal: 16s\tremaining: 55s\n",
      "225:\tlearn: 0.0156016\ttest: 0.0157767\tbest: 0.0157765 (224)\ttotal: 16s\tremaining: 54.9s\n",
      "226:\tlearn: 0.0156016\ttest: 0.0157767\tbest: 0.0157765 (224)\ttotal: 16.1s\tremaining: 54.7s\n",
      "227:\tlearn: 0.0156016\ttest: 0.0157767\tbest: 0.0157765 (224)\ttotal: 16.1s\tremaining: 54.5s\n",
      "228:\tlearn: 0.0156011\ttest: 0.0157763\tbest: 0.0157763 (228)\ttotal: 16.1s\tremaining: 54.3s\n",
      "229:\tlearn: 0.0156011\ttest: 0.0157763\tbest: 0.0157763 (229)\ttotal: 16.2s\tremaining: 54.2s\n",
      "230:\tlearn: 0.0156011\ttest: 0.0157763\tbest: 0.0157763 (229)\ttotal: 16.2s\tremaining: 54s\n",
      "231:\tlearn: 0.0156003\ttest: 0.0157762\tbest: 0.0157762 (231)\ttotal: 16.3s\tremaining: 53.9s\n",
      "232:\tlearn: 0.0156003\ttest: 0.0157762\tbest: 0.0157762 (231)\ttotal: 16.3s\tremaining: 53.7s\n",
      "233:\tlearn: 0.0155987\ttest: 0.0157747\tbest: 0.0157747 (233)\ttotal: 16.4s\tremaining: 53.6s\n",
      "234:\tlearn: 0.0155987\ttest: 0.0157747\tbest: 0.0157747 (233)\ttotal: 16.4s\tremaining: 53.4s\n",
      "235:\tlearn: 0.0155987\ttest: 0.0157747\tbest: 0.0157747 (233)\ttotal: 16.5s\tremaining: 53.3s\n",
      "236:\tlearn: 0.0155986\ttest: 0.0157747\tbest: 0.0157747 (236)\ttotal: 16.5s\tremaining: 53.2s\n",
      "237:\tlearn: 0.0155978\ttest: 0.0157745\tbest: 0.0157745 (237)\ttotal: 16.6s\tremaining: 53.1s\n",
      "238:\tlearn: 0.0155978\ttest: 0.0157745\tbest: 0.0157745 (237)\ttotal: 16.6s\tremaining: 52.9s\n",
      "239:\tlearn: 0.0155972\ttest: 0.0157743\tbest: 0.0157743 (239)\ttotal: 16.7s\tremaining: 52.9s\n",
      "240:\tlearn: 0.0155972\ttest: 0.0157743\tbest: 0.0157743 (239)\ttotal: 16.7s\tremaining: 52.7s\n",
      "241:\tlearn: 0.0155972\ttest: 0.0157743\tbest: 0.0157743 (241)\ttotal: 16.8s\tremaining: 52.6s\n",
      "242:\tlearn: 0.0155972\ttest: 0.0157743\tbest: 0.0157743 (241)\ttotal: 16.9s\tremaining: 52.5s\n",
      "243:\tlearn: 0.0155972\ttest: 0.0157743\tbest: 0.0157743 (243)\ttotal: 16.9s\tremaining: 52.4s\n",
      "244:\tlearn: 0.0155966\ttest: 0.0157742\tbest: 0.0157742 (244)\ttotal: 17s\tremaining: 52.4s\n",
      "245:\tlearn: 0.0155966\ttest: 0.0157742\tbest: 0.0157742 (245)\ttotal: 17.1s\tremaining: 52.3s\n",
      "246:\tlearn: 0.0155948\ttest: 0.0157741\tbest: 0.0157741 (246)\ttotal: 17.1s\tremaining: 52.3s\n",
      "247:\tlearn: 0.0155944\ttest: 0.0157725\tbest: 0.0157725 (247)\ttotal: 17.2s\tremaining: 52.2s\n",
      "248:\tlearn: 0.0155944\ttest: 0.0157725\tbest: 0.0157725 (248)\ttotal: 17.3s\tremaining: 52s\n",
      "249:\tlearn: 0.0155928\ttest: 0.0157724\tbest: 0.0157724 (249)\ttotal: 17.3s\tremaining: 52s\n",
      "250:\tlearn: 0.0155928\ttest: 0.0157724\tbest: 0.0157724 (250)\ttotal: 17.4s\tremaining: 51.9s\n",
      "251:\tlearn: 0.0155914\ttest: 0.0157710\tbest: 0.0157710 (251)\ttotal: 17.5s\tremaining: 51.8s\n",
      "252:\tlearn: 0.0155911\ttest: 0.0157707\tbest: 0.0157707 (252)\ttotal: 17.6s\tremaining: 51.9s\n",
      "253:\tlearn: 0.0155903\ttest: 0.0157706\tbest: 0.0157706 (253)\ttotal: 17.7s\tremaining: 52.1s\n",
      "254:\tlearn: 0.0155903\ttest: 0.0157706\tbest: 0.0157706 (254)\ttotal: 17.8s\tremaining: 52.1s\n",
      "255:\tlearn: 0.0155903\ttest: 0.0157706\tbest: 0.0157706 (255)\ttotal: 17.9s\tremaining: 52s\n",
      "256:\tlearn: 0.0155897\ttest: 0.0157705\tbest: 0.0157705 (256)\ttotal: 18s\tremaining: 51.9s\n",
      "257:\tlearn: 0.0155897\ttest: 0.0157705\tbest: 0.0157705 (257)\ttotal: 18s\tremaining: 51.7s\n",
      "258:\tlearn: 0.0155894\ttest: 0.0157702\tbest: 0.0157702 (258)\ttotal: 18s\tremaining: 51.6s\n",
      "259:\tlearn: 0.0155894\ttest: 0.0157702\tbest: 0.0157702 (259)\ttotal: 18.1s\tremaining: 51.5s\n",
      "260:\tlearn: 0.0155894\ttest: 0.0157701\tbest: 0.0157701 (260)\ttotal: 18.1s\tremaining: 51.4s\n",
      "261:\tlearn: 0.0155894\ttest: 0.0157701\tbest: 0.0157701 (260)\ttotal: 18.2s\tremaining: 51.2s\n",
      "262:\tlearn: 0.0155881\ttest: 0.0157700\tbest: 0.0157700 (262)\ttotal: 18.2s\tremaining: 51.1s\n",
      "263:\tlearn: 0.0155877\ttest: 0.0157697\tbest: 0.0157697 (263)\ttotal: 18.3s\tremaining: 51s\n",
      "264:\tlearn: 0.0155856\ttest: 0.0157697\tbest: 0.0157697 (264)\ttotal: 18.4s\tremaining: 50.9s\n",
      "265:\tlearn: 0.0155855\ttest: 0.0157697\tbest: 0.0157697 (265)\ttotal: 18.4s\tremaining: 50.8s\n",
      "266:\tlearn: 0.0155855\ttest: 0.0157697\tbest: 0.0157697 (266)\ttotal: 18.4s\tremaining: 50.6s\n",
      "267:\tlearn: 0.0155845\ttest: 0.0157687\tbest: 0.0157687 (267)\ttotal: 18.5s\tremaining: 50.5s\n",
      "268:\tlearn: 0.0155841\ttest: 0.0157686\tbest: 0.0157686 (268)\ttotal: 18.6s\tremaining: 50.4s\n",
      "269:\tlearn: 0.0155841\ttest: 0.0157686\tbest: 0.0157686 (268)\ttotal: 18.6s\tremaining: 50.3s\n",
      "270:\tlearn: 0.0155841\ttest: 0.0157686\tbest: 0.0157686 (268)\ttotal: 18.7s\tremaining: 50.2s\n",
      "271:\tlearn: 0.0155841\ttest: 0.0157686\tbest: 0.0157686 (271)\ttotal: 18.7s\tremaining: 50s\n",
      "272:\tlearn: 0.0155822\ttest: 0.0157685\tbest: 0.0157685 (272)\ttotal: 18.7s\tremaining: 49.9s\n",
      "273:\tlearn: 0.0155822\ttest: 0.0157685\tbest: 0.0157685 (273)\ttotal: 18.8s\tremaining: 49.8s\n",
      "274:\tlearn: 0.0155807\ttest: 0.0157685\tbest: 0.0157685 (274)\ttotal: 18.8s\tremaining: 49.6s\n",
      "275:\tlearn: 0.0155807\ttest: 0.0157684\tbest: 0.0157684 (275)\ttotal: 18.9s\tremaining: 49.5s\n",
      "276:\tlearn: 0.0155803\ttest: 0.0157684\tbest: 0.0157684 (276)\ttotal: 18.9s\tremaining: 49.4s\n",
      "277:\tlearn: 0.0155793\ttest: 0.0157674\tbest: 0.0157674 (277)\ttotal: 19s\tremaining: 49.3s\n"
     ]
    },
    {
     "name": "stdout",
     "output_type": "stream",
     "text": [
      "278:\tlearn: 0.0155793\ttest: 0.0157674\tbest: 0.0157674 (277)\ttotal: 19s\tremaining: 49.1s\n",
      "279:\tlearn: 0.0155780\ttest: 0.0157674\tbest: 0.0157674 (279)\ttotal: 19.1s\tremaining: 49s\n",
      "280:\tlearn: 0.0155780\ttest: 0.0157674\tbest: 0.0157674 (280)\ttotal: 19.1s\tremaining: 48.9s\n",
      "281:\tlearn: 0.0155776\ttest: 0.0157673\tbest: 0.0157673 (281)\ttotal: 19.1s\tremaining: 48.7s\n",
      "282:\tlearn: 0.0155776\ttest: 0.0157673\tbest: 0.0157673 (282)\ttotal: 19.2s\tremaining: 48.6s\n",
      "283:\tlearn: 0.0155773\ttest: 0.0157673\tbest: 0.0157673 (283)\ttotal: 19.2s\tremaining: 48.5s\n",
      "284:\tlearn: 0.0155760\ttest: 0.0157669\tbest: 0.0157669 (284)\ttotal: 19.3s\tremaining: 48.4s\n",
      "285:\tlearn: 0.0155760\ttest: 0.0157669\tbest: 0.0157669 (284)\ttotal: 19.3s\tremaining: 48.3s\n",
      "286:\tlearn: 0.0155760\ttest: 0.0157669\tbest: 0.0157669 (284)\ttotal: 19.4s\tremaining: 48.1s\n",
      "287:\tlearn: 0.0155756\ttest: 0.0157665\tbest: 0.0157665 (287)\ttotal: 19.4s\tremaining: 48s\n",
      "288:\tlearn: 0.0155756\ttest: 0.0157665\tbest: 0.0157665 (288)\ttotal: 19.5s\tremaining: 47.9s\n",
      "289:\tlearn: 0.0155756\ttest: 0.0157665\tbest: 0.0157665 (289)\ttotal: 19.5s\tremaining: 47.8s\n",
      "290:\tlearn: 0.0155756\ttest: 0.0157665\tbest: 0.0157665 (290)\ttotal: 19.6s\tremaining: 47.7s\n",
      "291:\tlearn: 0.0155745\ttest: 0.0157655\tbest: 0.0157655 (291)\ttotal: 19.6s\tremaining: 47.6s\n",
      "292:\tlearn: 0.0155745\ttest: 0.0157655\tbest: 0.0157655 (292)\ttotal: 19.7s\tremaining: 47.5s\n",
      "293:\tlearn: 0.0155720\ttest: 0.0157656\tbest: 0.0157655 (292)\ttotal: 19.8s\tremaining: 47.4s\n",
      "294:\tlearn: 0.0155720\ttest: 0.0157656\tbest: 0.0157655 (292)\ttotal: 19.8s\tremaining: 47.3s\n",
      "295:\tlearn: 0.0155720\ttest: 0.0157656\tbest: 0.0157655 (292)\ttotal: 19.8s\tremaining: 47.2s\n",
      "296:\tlearn: 0.0155720\ttest: 0.0157656\tbest: 0.0157655 (292)\ttotal: 19.9s\tremaining: 47s\n",
      "297:\tlearn: 0.0155720\ttest: 0.0157656\tbest: 0.0157655 (292)\ttotal: 19.9s\tremaining: 47s\n",
      "298:\tlearn: 0.0155720\ttest: 0.0157656\tbest: 0.0157655 (292)\ttotal: 20s\tremaining: 46.9s\n",
      "299:\tlearn: 0.0155720\ttest: 0.0157656\tbest: 0.0157655 (292)\ttotal: 20s\tremaining: 46.7s\n",
      "300:\tlearn: 0.0155720\ttest: 0.0157656\tbest: 0.0157655 (292)\ttotal: 20.1s\tremaining: 46.6s\n",
      "301:\tlearn: 0.0155720\ttest: 0.0157656\tbest: 0.0157655 (292)\ttotal: 20.1s\tremaining: 46.5s\n",
      "302:\tlearn: 0.0155720\ttest: 0.0157656\tbest: 0.0157655 (292)\ttotal: 20.1s\tremaining: 46.3s\n",
      "Stopped by overfitting detector  (10 iterations wait)\n",
      "\n",
      "bestTest = 0.01576551746\n",
      "bestIteration = 292\n",
      "\n",
      "Shrink model to first 293 iterations.\n"
     ]
    },
    {
     "data": {
      "text/plain": [
       "<catboost.core.CatBoostClassifier at 0x7f9fb3766190>"
      ]
     },
     "execution_count": 379,
     "metadata": {},
     "output_type": "execute_result"
    }
   ],
   "source": [
    "import catboost\n",
    "from catboost import Pool, CatBoostClassifier\n",
    "\n",
    "train_pool = Pool(cat_x_train, \n",
    "                  cat_y_train, \n",
    "                  cat_features=cat_columns)\n",
    "\n",
    "test_pool = Pool(cat_x_test, \n",
    "                 cat_y_test, \n",
    "                 cat_features=cat_columns)\n",
    "\n",
    "cb_model = CatBoostClassifier(random_state = 42,\n",
    "                              early_stopping_rounds = 10)\n",
    "\n",
    "cb_model.fit(train_pool, eval_set = test_pool)"
   ]
  },
  {
   "cell_type": "code",
   "execution_count": 380,
   "metadata": {},
   "outputs": [
    {
     "data": {
      "text/plain": [
       "292"
      ]
     },
     "execution_count": 380,
     "metadata": {},
     "output_type": "execute_result"
    }
   ],
   "source": [
    "cb_model.best_iteration_"
   ]
  },
  {
   "cell_type": "code",
   "execution_count": 381,
   "metadata": {},
   "outputs": [],
   "source": [
    "y_train_cb = cb_model.predict(cat_x_train)\n",
    "y_test_cb = cb_model.predict(cat_x_test)"
   ]
  },
  {
   "cell_type": "code",
   "execution_count": 382,
   "metadata": {},
   "outputs": [
    {
     "name": "stdout",
     "output_type": "stream",
     "text": [
      "0.8515001898974554\n",
      "0.8414201183431953\n"
     ]
    }
   ],
   "source": [
    "print(recall_score(cat_y_train, y_train_cb))\n",
    "print(recall_score(cat_y_test, y_test_cb))"
   ]
  },
  {
   "cell_type": "code",
   "execution_count": 383,
   "metadata": {},
   "outputs": [
    {
     "name": "stdout",
     "output_type": "stream",
     "text": [
      "[[75931   114]\n",
      " [  391  2242]]\n",
      "[[25342    39]\n",
      " [  134   711]]\n"
     ]
    }
   ],
   "source": [
    "print(confusion_matrix(cat_y_train, y_train_cb))\n",
    "print(confusion_matrix(cat_y_test, y_test_cb))"
   ]
  },
  {
   "cell_type": "code",
   "execution_count": 387,
   "metadata": {},
   "outputs": [
    {
     "data": {
      "image/png": "[encoded data removed]",
      "text/plain": [
       "<Figure size 432x288 with 1 Axes>"
      ]
     },
     "metadata": {
      "needs_background": "light"
     },
     "output_type": "display_data"
    }
   ],
   "source": [
    "final_columns = final_continuous_variables + final_categorical_variables\n",
    "\n",
    "sns.barplot(cb_model.feature_importances_.round(3),\n",
    "            final_columns)\n",
    "\n",
    "plt.title('Feature Importance')\n",
    "plt.show()"
   ]
  },
  {
   "cell_type": "markdown",
   "metadata": {},
   "source": [
    "# Comparing models"
   ]
  },
  {
   "cell_type": "code",
   "execution_count": 409,
   "metadata": {},
   "outputs": [
    {
     "name": "stdout",
     "output_type": "stream",
     "text": [
      "Decision Tree: 0.998\n",
      "Random Forest: 0.998\n",
      "AdaBoost: 1.000\n",
      "Gradient Boost: 0.998\n",
      "XGradient Boost: 0.998\n",
      "CatBoost: 0.841\n"
     ]
    }
   ],
   "source": [
    "print(f\"Decision Tree: {recall_score(y_test, y_test_dt, labels=['A','D'],pos_label='A'):.3f}\")\n",
    "print(f\"Random Forest: {recall_score(y_test, y_test_rf, labels=['A','D'],pos_label='A'):.3f}\")\n",
    "print(f\"AdaBoost: {recall_score(y_test, y_test_ada, labels=['A','D'],pos_label='A'):.3f}\")\n",
    "print(f\"Gradient Boost: {recall_score(y_test, y_test_gb, labels=['A','D'],pos_label='A'):.3f}\")\n",
    "print(f\"XGradient Boost: {recall_score(y_test, y_test_xgb, labels=['A','D'],pos_label='A'):.3f}\")\n",
    "print(f\"CatBoost: {recall_score(cat_y_test, y_test_cb):.3f}\")"
   ]
  },
  {
   "cell_type": "code",
   "execution_count": 413,
   "metadata": {},
   "outputs": [
    {
     "data": {
      "text/plain": [
       "['A4', 'A10', 'A16', 'gender', 'type_account']"
      ]
     },
     "execution_count": 413,
     "metadata": {},
     "output_type": "execute_result"
    }
   ],
   "source": [
    "final_columns"
   ]
  },
  {
   "cell_type": "code",
   "execution_count": 420,
   "metadata": {},
   "outputs": [
    {
     "data": {
      "image/png": "[encoded data removed]",
      "text/plain": [
       "<Figure size 432x288 with 1 Axes>"
      ]
     },
     "metadata": {
      "needs_background": "light"
     },
     "output_type": "display_data"
    }
   ],
   "source": [
    "sns.barplot(final_ada[-1].feature_importances_.round(3),\n",
    "            ['Inhabitants', 'Ratio of Urban Inhabitants', 'Crimes in `96', 'Gender', 'Type of Account'])\n",
    "\n",
    "plt.title('Feature Importance')\n",
    "plt.show()"
   ]
  },
  {
   "cell_type": "code",
   "execution_count": null,
   "metadata": {},
   "outputs": [],
   "source": []
  }
 ],
 "metadata": {
  "kernelspec": {
   "display_name": "Python 3",
   "language": "python",
   "name": "python3"
  },
  "language_info": {
   "codemirror_mode": {
    "name": "ipython",
    "version": 3
   },
   "file_extension": ".py",
   "mimetype": "text/x-python",
   "name": "python",
   "nbconvert_exporter": "python",
   "pygments_lexer": "ipython3",
   "version": "3.7.6"
  }
 },
 "nbformat": 4,
 "nbformat_minor": 4
}

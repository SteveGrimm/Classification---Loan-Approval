{
 "cells": [
  {
   "cell_type": "markdown",
   "metadata": {},
   "source": [
    "# Get data from server"
   ]
  },
  {
   "cell_type": "code",
   "execution_count": 1,
   "metadata": {},
   "outputs": [],
   "source": [
    "import pymysql\n",
    "import pandas as pd\n",
    "\n",
    "from dotenv import load_dotenv\n",
    "from os import getenv"
   ]
  },
  {
   "cell_type": "code",
   "execution_count": 2,
   "metadata": {},
   "outputs": [],
   "source": [
    "load_dotenv(dotenv_path = '.env')\n",
    "\n",
    "conn = pymysql.connect(host = getenv('host'),\n",
    "                       port = int(getenv('port')),\n",
    "                       user = getenv('user'),\n",
    "                       passwd = getenv('password'),\n",
    "                       db = 'financial')"
   ]
  },
  {
   "cell_type": "code",
   "execution_count": 3,
   "metadata": {
    "scrolled": true
   },
   "outputs": [
    {
     "name": "stdout",
     "output_type": "stream",
     "text": [
      "      account_id  district_id         frequency        date\n",
      "4498       11362           67  POPLATEK MESICNE  1995-10-14\n",
      "4499       11382           74  POPLATEK MESICNE  1995-08-20\n",
      "\n",
      "     card_id  disp_id     type      issued\n",
      "890     1239    13442   junior  1998-02-02\n",
      "891     1247    13660  classic  1995-06-13\n",
      "\n",
      "      client_id gender  birth_date  district_id\n",
      "5367      13971      F  1962-10-19           67\n",
      "5368      13998      F  1953-08-12           74\n",
      "\n",
      "      disp_id  client_id  account_id   type\n",
      "5367    13663      13971       11362  OWNER\n",
      "5368    13690      13998       11382  OWNER\n",
      "\n",
      "    district_id       A2             A3      A4  A5  A6  A7  A8  A9   A10  \\\n",
      "75           76  Sumperk  north Moravia  127369  31  32  13   2   7  51.2   \n",
      "76           77   Vsetin  north Moravia  148545   8  35  12   3   4  53.5   \n",
      "\n",
      "     A11  A12   A13  A14     A15   A16  \n",
      "75  8369  4.7  5.88  107  3736.0  2807  \n",
      "76  8909  4.0  5.56  113  3460.0  3590  \n",
      "\n",
      "     loan_id  account_id        date  amount  duration  payments status\n",
      "680     7305       11359  1996-08-06   54024        12    4502.0      A\n",
      "681     7308       11362  1996-12-27  129408        24    5392.0      A\n",
      "\n",
      "      order_id  account_id bank_to  account_to  amount k_symbol\n",
      "6469     46337       11362      KL    20009470   129.0         \n",
      "6470     46338       11362      MN    61540514  5392.0     UVER\n",
      "\n",
      "         trans_id  account_id        date    type operation  amount  balance  \\\n",
      "1056318   3682986       10451  1998-11-30  PRIJEM      None      26     8398   \n",
      "1056319   3682987       10451  1998-12-31  PRIJEM      None      42    13695   \n",
      "\n",
      "        k_symbol  bank  account  \n",
      "1056318     UROK  None      NaN  \n",
      "1056319     UROK  None      NaN  \n",
      "\n"
     ]
    }
   ],
   "source": [
    "tables = ['account','card','client','disp','district','loan','order','trans']\n",
    "\n",
    "for name in tables:\n",
    "\n",
    "    table = pd.read_sql(\"select * from `%s`\" % name, conn)\n",
    "    table.to_csv('tables/%s.csv' % name, index = False)\n",
    "    print(table.tail(2))\n",
    "    print('')"
   ]
  },
  {
   "cell_type": "code",
   "execution_count": 4,
   "metadata": {},
   "outputs": [],
   "source": [
    "#Close connection\n",
    "conn.close()"
   ]
  },
  {
   "cell_type": "markdown",
   "metadata": {},
   "source": [
    "# Load in data"
   ]
  },
  {
   "cell_type": "code",
   "execution_count": 5,
   "metadata": {},
   "outputs": [],
   "source": [
    "import matplotlib.pyplot as plt\n",
    "import seaborn as sns\n",
    "import numpy as np\n",
    "import pandas as pd\n",
    "\n",
    "pd.set_option('display.max_columns', None)"
   ]
  },
  {
   "cell_type": "code",
   "execution_count": 89,
   "metadata": {},
   "outputs": [
    {
     "name": "stdout",
     "output_type": "stream",
     "text": [
      "      account_id  district_id         frequency        date\n",
      "4498       11362           67  POPLATEK MESICNE  1995-10-14\n",
      "4499       11382           74  POPLATEK MESICNE  1995-08-20\n",
      "\n",
      "     card_id  disp_id     type      issued\n",
      "890     1239    13442   junior  1998-02-02\n",
      "891     1247    13660  classic  1995-06-13\n",
      "\n",
      "      client_id gender  birth_date  district_id\n",
      "5367      13971      F  1962-10-19           67\n",
      "5368      13998      F  1953-08-12           74\n",
      "\n",
      "      disp_id  client_id  account_id   type\n",
      "5367    13663      13971       11362  OWNER\n",
      "5368    13690      13998       11382  OWNER\n",
      "\n",
      "    district_id       A2             A3      A4  A5  A6  A7  A8  A9   A10  \\\n",
      "75           76  Sumperk  north Moravia  127369  31  32  13   2   7  51.2   \n",
      "76           77   Vsetin  north Moravia  148545   8  35  12   3   4  53.5   \n",
      "\n",
      "     A11  A12   A13  A14     A15   A16  \n",
      "75  8369  4.7  5.88  107  3736.0  2807  \n",
      "76  8909  4.0  5.56  113  3460.0  3590  \n",
      "\n",
      "     loan_id  account_id        date  amount  duration  payments status\n",
      "680     7305       11359  1996-08-06   54024        12    4502.0      A\n",
      "681     7308       11362  1996-12-27  129408        24    5392.0      A\n",
      "\n",
      "      order_id  account_id bank_to  account_to  amount k_symbol\n",
      "6469     46337       11362      KL    20009470   129.0      NaN\n",
      "6470     46338       11362      MN    61540514  5392.0     UVER\n",
      "\n",
      "         trans_id  account_id        date    type operation  amount  balance  \\\n",
      "1056318   3682986       10451  1998-11-30  PRIJEM       NaN      26     8398   \n",
      "1056319   3682987       10451  1998-12-31  PRIJEM       NaN      42    13695   \n",
      "\n",
      "        k_symbol bank  account  \n",
      "1056318     UROK  NaN      NaN  \n",
      "1056319     UROK  NaN      NaN  \n",
      "\n"
     ]
    },
    {
     "name": "stderr",
     "output_type": "stream",
     "text": [
      "/home/steve/Desktop/Unit5_Project/venv/lib/python3.7/site-packages/IPython/core/interactiveshell.py:3263: DtypeWarning: Columns (8) have mixed types.Specify dtype option on import or set low_memory=False.\n",
      "  if (await self.run_code(code, result,  async_=asy)):\n"
     ]
    }
   ],
   "source": [
    "tables = ['account','card','client','disp','district','loan','order','trans']\n",
    "\n",
    "for name in tables:\n",
    "    exec(\"%s = pd.read_csv('tables/%s.csv')\" % (name,name))\n",
    "\n",
    "    exec(\"print(%s.tail(2))\" % name)\n",
    "    print('')"
   ]
  },
  {
   "cell_type": "markdown",
   "metadata": {},
   "source": [
    "# SQL merges"
   ]
  },
  {
   "cell_type": "code",
   "execution_count": 90,
   "metadata": {},
   "outputs": [],
   "source": [
    "# 'A' stands for contract finished, no problems,\n",
    "# 'B' stands for contract finished, loan not payed,\n",
    "# 'C' stands for running contract, OK so far,\n",
    "# 'D' stands for running contract, client in debt\n",
    "\n",
    "loan['status2'] = loan.status\n",
    "\n",
    "loan.loc[loan['status2']=='C','status2'] = 'A'\n",
    "loan.loc[loan['status2']=='B','status2'] = 'D'"
   ]
  },
  {
   "cell_type": "code",
   "execution_count": 91,
   "metadata": {},
   "outputs": [],
   "source": [
    "#Join card and disp\n",
    "disp_card = disp.drop(columns=['type']).merge(card,on='disp_id').drop(columns=['card_id','disp_id'])\n",
    "\n",
    "#Join client and disp\n",
    "disp_cc = disp_card.merge(client,on='client_id').drop(columns=['client_id','district_id'])\n",
    "\n",
    "#Join disp and account\n",
    "account_disp = account.merge(disp_cc,on='account_id')"
   ]
  },
  {
   "cell_type": "code",
   "execution_count": 92,
   "metadata": {},
   "outputs": [
    {
     "data": {
      "text/html": [
       "<div>\n",
       "<style scoped>\n",
       "    .dataframe tbody tr th:only-of-type {\n",
       "        vertical-align: middle;\n",
       "    }\n",
       "\n",
       "    .dataframe tbody tr th {\n",
       "        vertical-align: top;\n",
       "    }\n",
       "\n",
       "    .dataframe thead th {\n",
       "        text-align: right;\n",
       "    }\n",
       "</style>\n",
       "<table border=\"1\" class=\"dataframe\">\n",
       "  <thead>\n",
       "    <tr style=\"text-align: right;\">\n",
       "      <th></th>\n",
       "      <th>account_id</th>\n",
       "      <th>district_id</th>\n",
       "      <th>frequency</th>\n",
       "      <th>date</th>\n",
       "      <th>type</th>\n",
       "      <th>issued</th>\n",
       "      <th>gender</th>\n",
       "      <th>birth_date</th>\n",
       "    </tr>\n",
       "  </thead>\n",
       "  <tbody>\n",
       "    <tr>\n",
       "      <th>0</th>\n",
       "      <td>7</td>\n",
       "      <td>60</td>\n",
       "      <td>POPLATEK MESICNE</td>\n",
       "      <td>1996-11-24</td>\n",
       "      <td>gold</td>\n",
       "      <td>1998-10-16</td>\n",
       "      <td>M</td>\n",
       "      <td>1935-10-16</td>\n",
       "    </tr>\n",
       "    <tr>\n",
       "      <th>1</th>\n",
       "      <td>14</td>\n",
       "      <td>47</td>\n",
       "      <td>POPLATEK MESICNE</td>\n",
       "      <td>1996-11-27</td>\n",
       "      <td>classic</td>\n",
       "      <td>1998-03-13</td>\n",
       "      <td>M</td>\n",
       "      <td>1942-12-28</td>\n",
       "    </tr>\n",
       "  </tbody>\n",
       "</table>\n",
       "</div>"
      ],
      "text/plain": [
       "   account_id  district_id         frequency        date     type      issued  \\\n",
       "0           7           60  POPLATEK MESICNE  1996-11-24     gold  1998-10-16   \n",
       "1          14           47  POPLATEK MESICNE  1996-11-27  classic  1998-03-13   \n",
       "\n",
       "  gender  birth_date  \n",
       "0      M  1935-10-16  \n",
       "1      M  1942-12-28  "
      ]
     },
     "execution_count": 92,
     "metadata": {},
     "output_type": "execute_result"
    }
   ],
   "source": [
    "account_disp.head(2)"
   ]
  },
  {
   "cell_type": "code",
   "execution_count": 94,
   "metadata": {},
   "outputs": [],
   "source": [
    "#inner join order onto loan\n",
    "loan_o = loan.merge(order,on='account_id',\n",
    "                    suffixes=('_loan','_order')).drop(columns=['order_id','account_to','k_symbol',\n",
    "                                                               'amount_loan','duration','payments'])\n",
    "\n",
    "#inner join trans onto loan\n",
    "loan_ot = loan_o.merge(trans.drop(columns=['date','trans_id','bank','account','k_symbol','operation']),\n",
    "                       on='account_id',suffixes=('_order','_trans'))"
   ]
  },
  {
   "cell_type": "code",
   "execution_count": 95,
   "metadata": {},
   "outputs": [
    {
     "data": {
      "text/html": [
       "<div>\n",
       "<style scoped>\n",
       "    .dataframe tbody tr th:only-of-type {\n",
       "        vertical-align: middle;\n",
       "    }\n",
       "\n",
       "    .dataframe tbody tr th {\n",
       "        vertical-align: top;\n",
       "    }\n",
       "\n",
       "    .dataframe thead th {\n",
       "        text-align: right;\n",
       "    }\n",
       "</style>\n",
       "<table border=\"1\" class=\"dataframe\">\n",
       "  <thead>\n",
       "    <tr style=\"text-align: right;\">\n",
       "      <th></th>\n",
       "      <th>loan_id</th>\n",
       "      <th>account_id</th>\n",
       "      <th>date</th>\n",
       "      <th>status</th>\n",
       "      <th>status2</th>\n",
       "      <th>bank_to</th>\n",
       "      <th>amount_order</th>\n",
       "      <th>type</th>\n",
       "      <th>amount</th>\n",
       "      <th>balance</th>\n",
       "    </tr>\n",
       "  </thead>\n",
       "  <tbody>\n",
       "    <tr>\n",
       "      <th>0</th>\n",
       "      <td>4959</td>\n",
       "      <td>2</td>\n",
       "      <td>1994-01-05</td>\n",
       "      <td>A</td>\n",
       "      <td>A</td>\n",
       "      <td>ST</td>\n",
       "      <td>3372.7</td>\n",
       "      <td>PRIJEM</td>\n",
       "      <td>1100</td>\n",
       "      <td>1100</td>\n",
       "    </tr>\n",
       "    <tr>\n",
       "      <th>1</th>\n",
       "      <td>4959</td>\n",
       "      <td>2</td>\n",
       "      <td>1994-01-05</td>\n",
       "      <td>A</td>\n",
       "      <td>A</td>\n",
       "      <td>ST</td>\n",
       "      <td>3372.7</td>\n",
       "      <td>PRIJEM</td>\n",
       "      <td>20236</td>\n",
       "      <td>21336</td>\n",
       "    </tr>\n",
       "    <tr>\n",
       "      <th>2</th>\n",
       "      <td>4959</td>\n",
       "      <td>2</td>\n",
       "      <td>1994-01-05</td>\n",
       "      <td>A</td>\n",
       "      <td>A</td>\n",
       "      <td>ST</td>\n",
       "      <td>3372.7</td>\n",
       "      <td>PRIJEM</td>\n",
       "      <td>20236</td>\n",
       "      <td>45286</td>\n",
       "    </tr>\n",
       "    <tr>\n",
       "      <th>3</th>\n",
       "      <td>4959</td>\n",
       "      <td>2</td>\n",
       "      <td>1994-01-05</td>\n",
       "      <td>A</td>\n",
       "      <td>A</td>\n",
       "      <td>ST</td>\n",
       "      <td>3372.7</td>\n",
       "      <td>PRIJEM</td>\n",
       "      <td>20236</td>\n",
       "      <td>54631</td>\n",
       "    </tr>\n",
       "    <tr>\n",
       "      <th>4</th>\n",
       "      <td>4959</td>\n",
       "      <td>2</td>\n",
       "      <td>1994-01-05</td>\n",
       "      <td>A</td>\n",
       "      <td>A</td>\n",
       "      <td>ST</td>\n",
       "      <td>3372.7</td>\n",
       "      <td>PRIJEM</td>\n",
       "      <td>30354</td>\n",
       "      <td>67530</td>\n",
       "    </tr>\n",
       "  </tbody>\n",
       "</table>\n",
       "</div>"
      ],
      "text/plain": [
       "   loan_id  account_id        date status status2 bank_to  amount_order  \\\n",
       "0     4959           2  1994-01-05      A       A      ST        3372.7   \n",
       "1     4959           2  1994-01-05      A       A      ST        3372.7   \n",
       "2     4959           2  1994-01-05      A       A      ST        3372.7   \n",
       "3     4959           2  1994-01-05      A       A      ST        3372.7   \n",
       "4     4959           2  1994-01-05      A       A      ST        3372.7   \n",
       "\n",
       "     type  amount  balance  \n",
       "0  PRIJEM    1100     1100  \n",
       "1  PRIJEM   20236    21336  \n",
       "2  PRIJEM   20236    45286  \n",
       "3  PRIJEM   20236    54631  \n",
       "4  PRIJEM   30354    67530  "
      ]
     },
     "execution_count": 95,
     "metadata": {},
     "output_type": "execute_result"
    }
   ],
   "source": [
    "loan_ot.head()"
   ]
  },
  {
   "cell_type": "code",
   "execution_count": 96,
   "metadata": {},
   "outputs": [],
   "source": [
    "#Join final loan with final account\n",
    "loan_account = loan_ot.merge(account_disp,on='account_id',suffixes=('_loan','_account'))"
   ]
  },
  {
   "cell_type": "code",
   "execution_count": 97,
   "metadata": {},
   "outputs": [
    {
     "data": {
      "text/html": [
       "<div>\n",
       "<style scoped>\n",
       "    .dataframe tbody tr th:only-of-type {\n",
       "        vertical-align: middle;\n",
       "    }\n",
       "\n",
       "    .dataframe tbody tr th {\n",
       "        vertical-align: top;\n",
       "    }\n",
       "\n",
       "    .dataframe thead th {\n",
       "        text-align: right;\n",
       "    }\n",
       "</style>\n",
       "<table border=\"1\" class=\"dataframe\">\n",
       "  <thead>\n",
       "    <tr style=\"text-align: right;\">\n",
       "      <th></th>\n",
       "      <th>loan_id</th>\n",
       "      <th>account_id</th>\n",
       "      <th>date_loan</th>\n",
       "      <th>status</th>\n",
       "      <th>status2</th>\n",
       "      <th>bank_to</th>\n",
       "      <th>amount_order</th>\n",
       "      <th>type_loan</th>\n",
       "      <th>amount</th>\n",
       "      <th>balance</th>\n",
       "      <th>district_id</th>\n",
       "      <th>frequency</th>\n",
       "      <th>date_account</th>\n",
       "      <th>type_account</th>\n",
       "      <th>issued</th>\n",
       "      <th>gender</th>\n",
       "      <th>birth_date</th>\n",
       "    </tr>\n",
       "  </thead>\n",
       "  <tbody>\n",
       "    <tr>\n",
       "      <th>0</th>\n",
       "      <td>4986</td>\n",
       "      <td>97</td>\n",
       "      <td>1997-08-10</td>\n",
       "      <td>A</td>\n",
       "      <td>A</td>\n",
       "      <td>ST</td>\n",
       "      <td>1436.0</td>\n",
       "      <td>PRIJEM</td>\n",
       "      <td>900</td>\n",
       "      <td>900</td>\n",
       "      <td>74</td>\n",
       "      <td>POPLATEK MESICNE</td>\n",
       "      <td>1996-05-05</td>\n",
       "      <td>classic</td>\n",
       "      <td>1998-06-23</td>\n",
       "      <td>M</td>\n",
       "      <td>1942-01-28</td>\n",
       "    </tr>\n",
       "    <tr>\n",
       "      <th>1</th>\n",
       "      <td>4986</td>\n",
       "      <td>97</td>\n",
       "      <td>1997-08-10</td>\n",
       "      <td>A</td>\n",
       "      <td>A</td>\n",
       "      <td>ST</td>\n",
       "      <td>1436.0</td>\n",
       "      <td>PRIJEM</td>\n",
       "      <td>17928</td>\n",
       "      <td>18828</td>\n",
       "      <td>74</td>\n",
       "      <td>POPLATEK MESICNE</td>\n",
       "      <td>1996-05-05</td>\n",
       "      <td>classic</td>\n",
       "      <td>1998-06-23</td>\n",
       "      <td>M</td>\n",
       "      <td>1942-01-28</td>\n",
       "    </tr>\n",
       "  </tbody>\n",
       "</table>\n",
       "</div>"
      ],
      "text/plain": [
       "   loan_id  account_id   date_loan status status2 bank_to  amount_order  \\\n",
       "0     4986          97  1997-08-10      A       A      ST        1436.0   \n",
       "1     4986          97  1997-08-10      A       A      ST        1436.0   \n",
       "\n",
       "  type_loan  amount  balance  district_id         frequency date_account  \\\n",
       "0    PRIJEM     900      900           74  POPLATEK MESICNE   1996-05-05   \n",
       "1    PRIJEM   17928    18828           74  POPLATEK MESICNE   1996-05-05   \n",
       "\n",
       "  type_account      issued gender  birth_date  \n",
       "0      classic  1998-06-23      M  1942-01-28  \n",
       "1      classic  1998-06-23      M  1942-01-28  "
      ]
     },
     "execution_count": 97,
     "metadata": {},
     "output_type": "execute_result"
    }
   ],
   "source": [
    "loan_account.head(2)"
   ]
  },
  {
   "cell_type": "code",
   "execution_count": 98,
   "metadata": {},
   "outputs": [],
   "source": [
    "#Join final loan/account with district\n",
    "loan_final = loan_account.merge(district,on='district_id').drop(columns=['A2','A12','A15'])"
   ]
  },
  {
   "cell_type": "code",
   "execution_count": 99,
   "metadata": {},
   "outputs": [
    {
     "data": {
      "text/html": [
       "<div>\n",
       "<style scoped>\n",
       "    .dataframe tbody tr th:only-of-type {\n",
       "        vertical-align: middle;\n",
       "    }\n",
       "\n",
       "    .dataframe tbody tr th {\n",
       "        vertical-align: top;\n",
       "    }\n",
       "\n",
       "    .dataframe thead th {\n",
       "        text-align: right;\n",
       "    }\n",
       "</style>\n",
       "<table border=\"1\" class=\"dataframe\">\n",
       "  <thead>\n",
       "    <tr style=\"text-align: right;\">\n",
       "      <th></th>\n",
       "      <th>loan_id</th>\n",
       "      <th>account_id</th>\n",
       "      <th>date_loan</th>\n",
       "      <th>status</th>\n",
       "      <th>status2</th>\n",
       "      <th>bank_to</th>\n",
       "      <th>amount_order</th>\n",
       "      <th>type_loan</th>\n",
       "      <th>amount</th>\n",
       "      <th>balance</th>\n",
       "      <th>district_id</th>\n",
       "      <th>frequency</th>\n",
       "      <th>date_account</th>\n",
       "      <th>type_account</th>\n",
       "      <th>issued</th>\n",
       "      <th>gender</th>\n",
       "      <th>birth_date</th>\n",
       "      <th>A3</th>\n",
       "      <th>A4</th>\n",
       "      <th>A5</th>\n",
       "      <th>A6</th>\n",
       "      <th>A7</th>\n",
       "      <th>A8</th>\n",
       "      <th>A9</th>\n",
       "      <th>A10</th>\n",
       "      <th>A11</th>\n",
       "      <th>A13</th>\n",
       "      <th>A14</th>\n",
       "      <th>A16</th>\n",
       "    </tr>\n",
       "  </thead>\n",
       "  <tbody>\n",
       "    <tr>\n",
       "      <th>0</th>\n",
       "      <td>4986</td>\n",
       "      <td>97</td>\n",
       "      <td>1997-08-10</td>\n",
       "      <td>A</td>\n",
       "      <td>A</td>\n",
       "      <td>ST</td>\n",
       "      <td>1436.0</td>\n",
       "      <td>PRIJEM</td>\n",
       "      <td>900</td>\n",
       "      <td>900</td>\n",
       "      <td>74</td>\n",
       "      <td>POPLATEK MESICNE</td>\n",
       "      <td>1996-05-05</td>\n",
       "      <td>classic</td>\n",
       "      <td>1998-06-23</td>\n",
       "      <td>M</td>\n",
       "      <td>1942-01-28</td>\n",
       "      <td>north Moravia</td>\n",
       "      <td>323870</td>\n",
       "      <td>0</td>\n",
       "      <td>0</td>\n",
       "      <td>0</td>\n",
       "      <td>1</td>\n",
       "      <td>1</td>\n",
       "      <td>100.0</td>\n",
       "      <td>10673</td>\n",
       "      <td>5.44</td>\n",
       "      <td>100</td>\n",
       "      <td>18347</td>\n",
       "    </tr>\n",
       "    <tr>\n",
       "      <th>1</th>\n",
       "      <td>4986</td>\n",
       "      <td>97</td>\n",
       "      <td>1997-08-10</td>\n",
       "      <td>A</td>\n",
       "      <td>A</td>\n",
       "      <td>ST</td>\n",
       "      <td>1436.0</td>\n",
       "      <td>PRIJEM</td>\n",
       "      <td>17928</td>\n",
       "      <td>18828</td>\n",
       "      <td>74</td>\n",
       "      <td>POPLATEK MESICNE</td>\n",
       "      <td>1996-05-05</td>\n",
       "      <td>classic</td>\n",
       "      <td>1998-06-23</td>\n",
       "      <td>M</td>\n",
       "      <td>1942-01-28</td>\n",
       "      <td>north Moravia</td>\n",
       "      <td>323870</td>\n",
       "      <td>0</td>\n",
       "      <td>0</td>\n",
       "      <td>0</td>\n",
       "      <td>1</td>\n",
       "      <td>1</td>\n",
       "      <td>100.0</td>\n",
       "      <td>10673</td>\n",
       "      <td>5.44</td>\n",
       "      <td>100</td>\n",
       "      <td>18347</td>\n",
       "    </tr>\n",
       "  </tbody>\n",
       "</table>\n",
       "</div>"
      ],
      "text/plain": [
       "   loan_id  account_id   date_loan status status2 bank_to  amount_order  \\\n",
       "0     4986          97  1997-08-10      A       A      ST        1436.0   \n",
       "1     4986          97  1997-08-10      A       A      ST        1436.0   \n",
       "\n",
       "  type_loan  amount  balance  district_id         frequency date_account  \\\n",
       "0    PRIJEM     900      900           74  POPLATEK MESICNE   1996-05-05   \n",
       "1    PRIJEM   17928    18828           74  POPLATEK MESICNE   1996-05-05   \n",
       "\n",
       "  type_account      issued gender  birth_date             A3      A4  A5  A6  \\\n",
       "0      classic  1998-06-23      M  1942-01-28  north Moravia  323870   0   0   \n",
       "1      classic  1998-06-23      M  1942-01-28  north Moravia  323870   0   0   \n",
       "\n",
       "   A7  A8  A9    A10    A11   A13  A14    A16  \n",
       "0   0   1   1  100.0  10673  5.44  100  18347  \n",
       "1   0   1   1  100.0  10673  5.44  100  18347  "
      ]
     },
     "execution_count": 99,
     "metadata": {},
     "output_type": "execute_result"
    }
   ],
   "source": [
    "loan_final.head(2)"
   ]
  },
  {
   "cell_type": "code",
   "execution_count": 262,
   "metadata": {},
   "outputs": [],
   "source": [
    "data = loan_final.drop(columns=['status','loan_id','account_id','district_id',\n",
    "                                'date_loan','date_account','issued','birth_date'])"
   ]
  },
  {
   "cell_type": "code",
   "execution_count": 263,
   "metadata": {},
   "outputs": [
    {
     "data": {
      "text/plain": [
       "Index(['status2', 'bank_to', 'amount_order', 'type_loan', 'amount', 'balance',\n",
       "       'frequency', 'type_account', 'gender', 'A3', 'A4', 'A5', 'A6', 'A7',\n",
       "       'A8', 'A9', 'A10', 'A11', 'A13', 'A14', 'A16'],\n",
       "      dtype='object')"
      ]
     },
     "execution_count": 263,
     "metadata": {},
     "output_type": "execute_result"
    }
   ],
   "source": [
    "data.columns"
   ]
  },
  {
   "cell_type": "code",
   "execution_count": 264,
   "metadata": {},
   "outputs": [
    {
     "data": {
      "text/plain": [
       "status2             2\n",
       "bank_to            13\n",
       "amount_order      339\n",
       "type_loan           3\n",
       "amount           7054\n",
       "balance         36286\n",
       "frequency           3\n",
       "type_account        3\n",
       "gender              2\n",
       "A3                  8\n",
       "A4                 60\n",
       "A5                 44\n",
       "A6                 30\n",
       "A7                 16\n",
       "A8                  6\n",
       "A9                 11\n",
       "A10                54\n",
       "A11                59\n",
       "A13                56\n",
       "A14                36\n",
       "A16                60\n",
       "dtype: int64"
      ]
     },
     "execution_count": 264,
     "metadata": {},
     "output_type": "execute_result"
    }
   ],
   "source": [
    "data.nunique()"
   ]
  },
  {
   "cell_type": "code",
   "execution_count": 265,
   "metadata": {},
   "outputs": [
    {
     "data": {
      "text/plain": [
       "(104904, 21)"
      ]
     },
     "execution_count": 265,
     "metadata": {},
     "output_type": "execute_result"
    }
   ],
   "source": [
    "data.shape"
   ]
  },
  {
   "cell_type": "code",
   "execution_count": 266,
   "metadata": {},
   "outputs": [],
   "source": [
    "binary_variables = ['gender']\n",
    "\n",
    "continuous_variables = [#'amount_loan', 'duration', 'payments', \n",
    "                        'amount_order','amount', 'balance',\n",
    "                        'A4', 'A5', 'A6', 'A7', 'A8', 'A9', \n",
    "                        'A10', 'A11', 'A13', 'A14', \n",
    "                        'A16']\n",
    "\n",
    "target_variables = ['status2']\n",
    "\n",
    "nominal_cat_variables = [x for x in data.columns.to_list() if x not in set(binary_variables + continuous_variables + target_variables)]"
   ]
  },
  {
   "cell_type": "code",
   "execution_count": 267,
   "metadata": {},
   "outputs": [],
   "source": [
    "from sklearn.model_selection import train_test_split\n",
    "from sklearn.compose import ColumnTransformer\n",
    "from sklearn.preprocessing import OneHotEncoder, OrdinalEncoder\n",
    "\n",
    "#Set x and y variables\n",
    "x = data.drop(columns = 'status2')\n",
    "y = data.status2\n",
    "\n",
    "#Train test split\n",
    "x_train, x_test, y_train, y_test = train_test_split(x,y,\n",
    "                                                    test_size = 0.2,\n",
    "                                                    random_state = 42)\n",
    "\n",
    "data_transformer = ColumnTransformer(transformers=[\n",
    "    ('continuous', 'passthrough', continuous_variables),\n",
    "    ('binary', OrdinalEncoder(), binary_variables),\n",
    "    ('nominal', OneHotEncoder(sparse=False), nominal_cat_variables)],\n",
    "                                    remainder = 'drop')"
   ]
  },
  {
   "cell_type": "markdown",
   "metadata": {},
   "source": [
    "# Feature Selection"
   ]
  },
  {
   "cell_type": "code",
   "execution_count": 268,
   "metadata": {},
   "outputs": [],
   "source": [
    "from sklearn.feature_selection import VarianceThreshold\n",
    "from sklearn.preprocessing import MinMaxScaler\n",
    "from sklearn.pipeline import Pipeline"
   ]
  },
  {
   "cell_type": "code",
   "execution_count": 269,
   "metadata": {},
   "outputs": [
    {
     "data": {
      "text/plain": [
       "Pipeline(memory=None,\n",
       "         steps=[('scaler', MinMaxScaler(copy=True, feature_range=(0, 1))),\n",
       "                ('var_thres', VarianceThreshold(threshold=0.1))],\n",
       "         verbose=False)"
      ]
     },
     "execution_count": 269,
     "metadata": {},
     "output_type": "execute_result"
    }
   ],
   "source": [
    "variance_picking = Pipeline([('scaler', MinMaxScaler()),\n",
    "                            ('var_thres', VarianceThreshold(threshold=0.1))])\n",
    "\n",
    "variance_picking.fit(x_train[continuous_variables])"
   ]
  },
  {
   "cell_type": "code",
   "execution_count": 270,
   "metadata": {},
   "outputs": [
    {
     "data": {
      "text/plain": [
       "<matplotlib.axes._subplots.AxesSubplot at 0x7f9fb38dbad0>"
      ]
     },
     "execution_count": 270,
     "metadata": {},
     "output_type": "execute_result"
    },
    {
     "data": {
      "image/png": "[encoded data removed]",
      "text/plain": [
       "<Figure size 432x288 with 1 Axes>"
      ]
     },
     "metadata": {
      "needs_background": "light"
     },
     "output_type": "display_data"
    }
   ],
   "source": [
    "sns.barplot(variance_picking.named_steps['var_thres'].variances_.round(3),continuous_variables)"
   ]
  },
  {
   "cell_type": "code",
   "execution_count": 271,
   "metadata": {},
   "outputs": [
    {
     "data": {
      "text/plain": [
       "['A4', 'A10', 'A16']"
      ]
     },
     "execution_count": 271,
     "metadata": {},
     "output_type": "execute_result"
    }
   ],
   "source": [
    "new_continuous_variables = [continuous_variables[value] \n",
    "                            for value in variance_picking.named_steps['var_thres'].get_support(indices=True)]\n",
    "new_continuous_variables\n",
    "\n",
    "# Univariate Selection"
   ]
  },
  {
   "cell_type": "markdown",
   "metadata": {},
   "source": [
    "# Univariate Selection"
   ]
  },
  {
   "cell_type": "code",
   "execution_count": 272,
   "metadata": {},
   "outputs": [
    {
     "data": {
      "text/plain": [
       "['gender', 'bank_to', 'type_loan', 'frequency', 'type_account', 'A3']"
      ]
     },
     "execution_count": 272,
     "metadata": {},
     "output_type": "execute_result"
    }
   ],
   "source": [
    "combined_cat_variables = binary_variables + nominal_cat_variables\n",
    "combined_cat_variables"
   ]
  },
  {
   "cell_type": "code",
   "execution_count": 273,
   "metadata": {},
   "outputs": [
    {
     "data": {
      "text/plain": [
       "Pipeline(memory=None,\n",
       "         steps=[('ordinal_transform',\n",
       "                 OrdinalEncoder(categories='auto',\n",
       "                                dtype=<class 'numpy.float64'>)),\n",
       "                ('SelectK',\n",
       "                 SelectKBest(k=2,\n",
       "                             score_func=<function chi2 at 0x7f9faff67e60>))],\n",
       "         verbose=False)"
      ]
     },
     "execution_count": 273,
     "metadata": {},
     "output_type": "execute_result"
    }
   ],
   "source": [
    "from sklearn.feature_selection import chi2, SelectKBest\n",
    "\n",
    "chi2_pipe_k = Pipeline([('ordinal_transform', OrdinalEncoder()),\n",
    "                        ('SelectK', SelectKBest(score_func = chi2,\n",
    "                                                k = 2))])\n",
    "\n",
    "chi2_pipe_k.fit(x_train[combined_cat_variables],y_train)"
   ]
  },
  {
   "cell_type": "code",
   "execution_count": 274,
   "metadata": {},
   "outputs": [
    {
     "data": {
      "text/plain": [
       "['gender', 'type_account']"
      ]
     },
     "execution_count": 274,
     "metadata": {},
     "output_type": "execute_result"
    }
   ],
   "source": [
    "new_categorical_variables = [combined_cat_variables[value] \n",
    "                               for value in chi2_pipe_k.named_steps['SelectK'].get_support(indices=True)]\n",
    "new_categorical_variables"
   ]
  },
  {
   "cell_type": "code",
   "execution_count": 275,
   "metadata": {},
   "outputs": [
    {
     "data": {
      "text/plain": [
       "Pipeline(memory=None,\n",
       "         steps=[('ordinal_transform',\n",
       "                 OrdinalEncoder(categories='auto',\n",
       "                                dtype=<class 'numpy.float64'>)),\n",
       "                ('Selectfwe',\n",
       "                 SelectFwe(alpha=0.05,\n",
       "                           score_func=<function chi2 at 0x7f9faff67e60>))],\n",
       "         verbose=False)"
      ]
     },
     "execution_count": 275,
     "metadata": {},
     "output_type": "execute_result"
    }
   ],
   "source": [
    "from sklearn.feature_selection import SelectFwe\n",
    "\n",
    "chi2_pipe_fwe = Pipeline([('ordinal_transform', OrdinalEncoder()),\n",
    "                         ('Selectfwe', SelectFwe(score_func = chi2, \n",
    "                                                 alpha = 0.05))])\n",
    "\n",
    "chi2_pipe_fwe.fit(x_train[new_categorical_variables], y_train)"
   ]
  },
  {
   "cell_type": "code",
   "execution_count": 276,
   "metadata": {},
   "outputs": [
    {
     "data": {
      "text/plain": [
       "['gender', 'type_account']"
      ]
     },
     "execution_count": 276,
     "metadata": {},
     "output_type": "execute_result"
    }
   ],
   "source": [
    "final_categorical_variables = [new_categorical_variables[value] \n",
    "                               for value in chi2_pipe_fwe.named_steps['Selectfwe'].get_support(indices=True)]\n",
    "final_categorical_variables"
   ]
  },
  {
   "cell_type": "markdown",
   "metadata": {},
   "source": [
    "# ANOVA"
   ]
  },
  {
   "cell_type": "code",
   "execution_count": 277,
   "metadata": {},
   "outputs": [
    {
     "data": {
      "text/plain": [
       "Pipeline(memory=None,\n",
       "         steps=[('scaler',\n",
       "                 StandardScaler(copy=True, with_mean=True, with_std=True)),\n",
       "                ('anova',\n",
       "                 SelectKBest(k='all',\n",
       "                             score_func=<function f_classif at 0x7f9faff7c8c0>))],\n",
       "         verbose=False)"
      ]
     },
     "execution_count": 277,
     "metadata": {},
     "output_type": "execute_result"
    }
   ],
   "source": [
    "from sklearn.feature_selection import f_classif\n",
    "from sklearn.preprocessing import StandardScaler\n",
    "\n",
    "anova_pipe = Pipeline([('scaler', StandardScaler()),\n",
    "                        ('anova', SelectKBest(score_func = f_classif,\n",
    "                                             k = 'all'))])\n",
    "\n",
    "anova_pipe.fit(x_train[new_continuous_variables], y_train)"
   ]
  },
  {
   "cell_type": "code",
   "execution_count": 278,
   "metadata": {},
   "outputs": [
    {
     "data": {
      "text/plain": [
       "Pipeline(memory=None,\n",
       "         steps=[('scaler',\n",
       "                 StandardScaler(copy=True, with_mean=True, with_std=True)),\n",
       "                ('select',\n",
       "                 SelectFwe(alpha=0.05,\n",
       "                           score_func=<function f_classif at 0x7f9faff7c8c0>))],\n",
       "         verbose=False)"
      ]
     },
     "execution_count": 278,
     "metadata": {},
     "output_type": "execute_result"
    }
   ],
   "source": [
    "anova_pipe_fwe = Pipeline([('scaler', StandardScaler()),\n",
    "                           ('select', SelectFwe(score_func = f_classif,\n",
    "                                                alpha = 0.05))])\n",
    "\n",
    "anova_pipe_fwe.fit(x_train[new_continuous_variables], y_train)"
   ]
  },
  {
   "cell_type": "code",
   "execution_count": 279,
   "metadata": {},
   "outputs": [
    {
     "data": {
      "text/plain": [
       "['A4', 'A10', 'A16']"
      ]
     },
     "execution_count": 279,
     "metadata": {},
     "output_type": "execute_result"
    }
   ],
   "source": [
    "final_continuous_variables = [new_continuous_variables[value] \n",
    "                              for value in anova_pipe_fwe.named_steps['select'].get_support(indices=True)]\n",
    "final_continuous_variables"
   ]
  },
  {
   "cell_type": "markdown",
   "metadata": {},
   "source": [
    "# Modelling"
   ]
  },
  {
   "cell_type": "code",
   "execution_count": 280,
   "metadata": {},
   "outputs": [],
   "source": [
    "from sklearn.metrics import recall_score\n",
    "from sklearn.metrics import confusion_matrix"
   ]
  },
  {
   "cell_type": "code",
   "execution_count": 281,
   "metadata": {},
   "outputs": [],
   "source": [
    "from sklearn.compose import ColumnTransformer\n",
    "\n",
    "data_transformer = ColumnTransformer(transformers = [\n",
    "                                    ('continuous','passthrough', final_continuous_variables),\n",
    "                                    ('binary', OrdinalEncoder(), final_categorical_variables)],\n",
    "                                    remainder = 'drop')"
   ]
  },
  {
   "cell_type": "markdown",
   "metadata": {},
   "source": [
    "## Null Model"
   ]
  },
  {
   "cell_type": "code",
   "execution_count": 282,
   "metadata": {},
   "outputs": [
    {
     "data": {
      "text/plain": [
       "Pipeline(memory=None,\n",
       "         steps=[('transform',\n",
       "                 ColumnTransformer(n_jobs=None, remainder='drop',\n",
       "                                   sparse_threshold=0.3,\n",
       "                                   transformer_weights=None,\n",
       "                                   transformers=[('continuous', 'passthrough',\n",
       "                                                  ['A4', 'A10', 'A16']),\n",
       "                                                 ('binary',\n",
       "                                                  OrdinalEncoder(categories='auto',\n",
       "                                                                 dtype=<class 'numpy.float64'>),\n",
       "                                                  ['gender', 'type_account'])],\n",
       "                                   verbose=False)),\n",
       "                ('dt',\n",
       "                 DecisionTreeClassifier(ccp_alpha=0.0, class_weight=None,\n",
       "                                        criterion='gini', max_depth=None,\n",
       "                                        max_features=None, max_leaf_nodes=None,\n",
       "                                        min_impurity_decrease=0.0,\n",
       "                                        min_impurity_split=None,\n",
       "                                        min_samples_leaf=1, min_samples_split=2,\n",
       "                                        min_weight_fraction_leaf=0.0,\n",
       "                                        presort='deprecated', random_state=42,\n",
       "                                        splitter='best'))],\n",
       "         verbose=False)"
      ]
     },
     "execution_count": 282,
     "metadata": {},
     "output_type": "execute_result"
    }
   ],
   "source": [
    "from sklearn.tree import DecisionTreeClassifier\n",
    "\n",
    "dt_null = Pipeline(steps= [('transform', data_transformer),\n",
    "                           ('dt',DecisionTreeClassifier(random_state=42))])\n",
    "\n",
    "dt_null.fit(x_train, y_train)"
   ]
  },
  {
   "cell_type": "code",
   "execution_count": 283,
   "metadata": {},
   "outputs": [],
   "source": [
    "y_train_dt = dt_null.predict(x_train)\n",
    "y_test_dt = dt_null.predict(x_test)"
   ]
  },
  {
   "cell_type": "code",
   "execution_count": 284,
   "metadata": {},
   "outputs": [
    {
     "name": "stdout",
     "output_type": "stream",
     "text": [
      "0.998532892790216\n",
      "0.9983262774441272\n"
     ]
    }
   ],
   "source": [
    "print(recall_score(y_train, y_train_dt, labels=['A','D'],pos_label='A'))\n",
    "print(recall_score(y_test, y_test_dt, labels=['A','D'],pos_label='A'))"
   ]
  },
  {
   "cell_type": "code",
   "execution_count": 285,
   "metadata": {},
   "outputs": [
    {
     "name": "stdout",
     "output_type": "stream",
     "text": [
      "[[80993   119]\n",
      " [  421  2390]]\n",
      "[[20280    34]\n",
      " [  104   563]]\n"
     ]
    }
   ],
   "source": [
    "print(confusion_matrix(y_train, y_train_dt))\n",
    "print(confusion_matrix(y_test, y_test_dt))"
   ]
  },
  {
   "cell_type": "code",
   "execution_count": 286,
   "metadata": {},
   "outputs": [
    {
     "data": {
      "image/png": "[encoded data removed]",
      "text/plain": [
       "<Figure size 432x288 with 1 Axes>"
      ]
     },
     "metadata": {
      "needs_background": "light"
     },
     "output_type": "display_data"
    }
   ],
   "source": [
    "final_columns = final_continuous_variables + final_categorical_variables\n",
    "\n",
    "sns.barplot(dt_null[-1].feature_importances_.round(3),\n",
    "            final_columns)\n",
    "\n",
    "plt.title('Feature Importance')\n",
    "plt.show()"
   ]
  },
  {
   "cell_type": "markdown",
   "metadata": {},
   "source": [
    "## Random Forest"
   ]
  },
  {
   "cell_type": "code",
   "execution_count": 288,
   "metadata": {},
   "outputs": [],
   "source": [
    "from sklearn.ensemble import RandomForestClassifier\n",
    "from sklearn.model_selection import GridSearchCV\n",
    "\n",
    "rf_pipe = Pipeline([('transform', data_transformer),\n",
    "                    ('rf', RandomForestClassifier(n_estimators = 100,\n",
    "                                                  bootstrap = True,\n",
    "                                                  random_state = 42))])\n",
    "\n",
    "params = [{'rf__max_depth': [5, 10, 15, None],\n",
    "           'rf__max_leaf_nodes': [50, 100, 150, None],\n",
    "           'rf__max_features': ['auto', 'log2'],\n",
    "           'rf__max_samples': [0.7, 0.8, 0.9, None]}]\n",
    "\n",
    "rf_gridsearch = GridSearchCV(rf_pipe, params, n_jobs = -1, cv = 3)"
   ]
  },
  {
   "cell_type": "code",
   "execution_count": 289,
   "metadata": {},
   "outputs": [
    {
     "data": {
      "text/plain": [
       "GridSearchCV(cv=3, error_score=nan,\n",
       "             estimator=Pipeline(memory=None,\n",
       "                                steps=[('transform',\n",
       "                                        ColumnTransformer(n_jobs=None,\n",
       "                                                          remainder='drop',\n",
       "                                                          sparse_threshold=0.3,\n",
       "                                                          transformer_weights=None,\n",
       "                                                          transformers=[('continuous',\n",
       "                                                                         'passthrough',\n",
       "                                                                         ['A4',\n",
       "                                                                          'A10',\n",
       "                                                                          'A16']),\n",
       "                                                                        ('binary',\n",
       "                                                                         OrdinalEncoder(categories='auto',\n",
       "                                                                                        dtype=<class 'numpy.float64'>),\n",
       "                                                                         ['gender',\n",
       "                                                                          'type_account'])],\n",
       "                                                          verbose=F...\n",
       "                                                               n_jobs=None,\n",
       "                                                               oob_score=False,\n",
       "                                                               random_state=42,\n",
       "                                                               verbose=0,\n",
       "                                                               warm_start=False))],\n",
       "                                verbose=False),\n",
       "             iid='deprecated', n_jobs=-1,\n",
       "             param_grid=[{'rf__max_depth': [5, 10, 15, None],\n",
       "                          'rf__max_features': ['auto', 'log2'],\n",
       "                          'rf__max_leaf_nodes': [50, 100, 150, None],\n",
       "                          'rf__max_samples': [0.7, 0.8, 0.9, None]}],\n",
       "             pre_dispatch='2*n_jobs', refit=True, return_train_score=False,\n",
       "             scoring=None, verbose=0)"
      ]
     },
     "execution_count": 289,
     "metadata": {},
     "output_type": "execute_result"
    }
   ],
   "source": [
    "rf_gridsearch.fit(x_train, y_train)"
   ]
  },
  {
   "cell_type": "code",
   "execution_count": 290,
   "metadata": {},
   "outputs": [
    {
     "data": {
      "text/plain": [
       "{'rf__max_depth': 10,\n",
       " 'rf__max_features': 'auto',\n",
       " 'rf__max_leaf_nodes': 50,\n",
       " 'rf__max_samples': 0.7}"
      ]
     },
     "execution_count": 290,
     "metadata": {},
     "output_type": "execute_result"
    }
   ],
   "source": [
    "rf_gridsearch.best_params_"
   ]
  },
  {
   "cell_type": "code",
   "execution_count": 291,
   "metadata": {},
   "outputs": [],
   "source": [
    "final_rf = rf_gridsearch.best_estimator_\n",
    "y_train_rf = final_rf.predict(x_train)\n",
    "y_test_rf = final_rf.predict(x_test)"
   ]
  },
  {
   "cell_type": "code",
   "execution_count": 292,
   "metadata": {},
   "outputs": [
    {
     "name": "stdout",
     "output_type": "stream",
     "text": [
      "0.998532892790216\n",
      "0.9983262774441272\n"
     ]
    }
   ],
   "source": [
    "print(recall_score(y_train, y_train_rf, labels=['A','D'],pos_label='A'))\n",
    "print(recall_score(y_test, y_test_rf, labels=['A','D'],pos_label='A'))"
   ]
  },
  {
   "cell_type": "code",
   "execution_count": 293,
   "metadata": {},
   "outputs": [
    {
     "name": "stdout",
     "output_type": "stream",
     "text": [
      "[[80993   119]\n",
      " [  421  2390]]\n",
      "[[20280    34]\n",
      " [  104   563]]\n"
     ]
    }
   ],
   "source": [
    "print(confusion_matrix(y_train, y_train_rf))\n",
    "print(confusion_matrix(y_test, y_test_rf))"
   ]
  },
  {
   "cell_type": "code",
   "execution_count": 312,
   "metadata": {},
   "outputs": [
    {
     "data": {
      "image/png": "[encoded data removed]",
      "text/plain": [
       "<Figure size 432x288 with 1 Axes>"
      ]
     },
     "metadata": {
      "needs_background": "light"
     },
     "output_type": "display_data"
    }
   ],
   "source": [
    "final_columns = final_continuous_variables + final_categorical_variables\n",
    "\n",
    "sns.barplot(final_rf[-1].feature_importances_.round(3),\n",
    "            final_columns)\n",
    "\n",
    "plt.title('Feature Importance')\n",
    "plt.show()"
   ]
  },
  {
   "cell_type": "markdown",
   "metadata": {},
   "source": [
    "# AdaBoost"
   ]
  },
  {
   "cell_type": "code",
   "execution_count": 307,
   "metadata": {
    "scrolled": false
   },
   "outputs": [
    {
     "data": {
      "text/plain": [
       "GridSearchCV(cv=3, error_score=nan,\n",
       "             estimator=Pipeline(memory=None,\n",
       "                                steps=[('transform',\n",
       "                                        ColumnTransformer(n_jobs=None,\n",
       "                                                          remainder='drop',\n",
       "                                                          sparse_threshold=0.3,\n",
       "                                                          transformer_weights=None,\n",
       "                                                          transformers=[('continuous',\n",
       "                                                                         'passthrough',\n",
       "                                                                         ['A4',\n",
       "                                                                          'A10',\n",
       "                                                                          'A16']),\n",
       "                                                                        ('binary',\n",
       "                                                                         OrdinalEncoder(categories='auto',\n",
       "                                                                                        dtype=<class 'numpy.float64'>),\n",
       "                                                                         ['gender',\n",
       "                                                                          'type_account'])],\n",
       "                                                          verbose=False)),\n",
       "                                       ('ada',\n",
       "                                        AdaBoostClassifier(algorithm='SAMME.R',\n",
       "                                                           base_estimator=None,\n",
       "                                                           learning_rate=1.0,\n",
       "                                                           n_estimators=50,\n",
       "                                                           random_state=42))],\n",
       "                                verbose=False),\n",
       "             iid='deprecated', n_jobs=-1,\n",
       "             param_grid=[{'ada__learning_rate': [0.1, 0.5, 1],\n",
       "                          'ada__n_estimators': [10, 50, 100]}],\n",
       "             pre_dispatch='2*n_jobs', refit=True, return_train_score=False,\n",
       "             scoring=None, verbose=0)"
      ]
     },
     "execution_count": 307,
     "metadata": {},
     "output_type": "execute_result"
    }
   ],
   "source": [
    "from sklearn.ensemble import AdaBoostClassifier\n",
    "\n",
    "ada_pipe = Pipeline(steps= [('transform', data_transformer),\n",
    "                           ('ada', AdaBoostClassifier(random_state = 42))])\n",
    "\n",
    "params = [{'ada__learning_rate': [0.1, 0.5, 1],\n",
    "           'ada__n_estimators': [10, 50, 100]}]\n",
    "\n",
    "ada_gridsearch = GridSearchCV(ada_pipe, params, n_jobs = -1, cv = 3)\n",
    "\n",
    "ada_gridsearch.fit(x_train, y_train)"
   ]
  },
  {
   "cell_type": "code",
   "execution_count": 308,
   "metadata": {},
   "outputs": [
    {
     "data": {
      "text/plain": [
       "{'ada__learning_rate': 1, 'ada__n_estimators': 100}"
      ]
     },
     "execution_count": 308,
     "metadata": {},
     "output_type": "execute_result"
    }
   ],
   "source": [
    "ada_gridsearch.best_params_"
   ]
  },
  {
   "cell_type": "code",
   "execution_count": 309,
   "metadata": {},
   "outputs": [],
   "source": [
    "final_ada = ada_gridsearch.best_estimator_\n",
    "y_train_ada = final_ada.predict(x_train)\n",
    "y_test_ada = final_ada.predict(x_test)"
   ]
  },
  {
   "cell_type": "code",
   "execution_count": 310,
   "metadata": {},
   "outputs": [
    {
     "name": "stdout",
     "output_type": "stream",
     "text": [
      "1.0\n",
      "1.0\n"
     ]
    }
   ],
   "source": [
    "print(recall_score(y_train, y_train_ada, labels=['A','D'],pos_label='A'))\n",
    "print(recall_score(y_test, y_test_ada, labels=['A','D'],pos_label='A'))"
   ]
  },
  {
   "cell_type": "code",
   "execution_count": 311,
   "metadata": {},
   "outputs": [
    {
     "name": "stdout",
     "output_type": "stream",
     "text": [
      "[[81112     0]\n",
      " [  743  2068]]\n",
      "[[20314     0]\n",
      " [  188   479]]\n"
     ]
    }
   ],
   "source": [
    "print(confusion_matrix(y_train, y_train_ada))\n",
    "print(confusion_matrix(y_test, y_test_ada))"
   ]
  },
  {
   "cell_type": "code",
   "execution_count": 313,
   "metadata": {},
   "outputs": [
    {
     "data": {
      "image/png": "[encoded data removed]",
      "text/plain": [
       "<Figure size 432x288 with 1 Axes>"
      ]
     },
     "metadata": {
      "needs_background": "light"
     },
     "output_type": "display_data"
    }
   ],
   "source": [
    "final_columns = final_continuous_variables + final_categorical_variables\n",
    "\n",
    "sns.barplot(final_ada[-1].feature_importances_.round(3),\n",
    "            final_columns)\n",
    "\n",
    "plt.title('Feature Importance')\n",
    "plt.show()"
   ]
  },
  {
   "cell_type": "markdown",
   "metadata": {},
   "source": [
    "# Gradient Boost"
   ]
  },
  {
   "cell_type": "code",
   "execution_count": 321,
   "metadata": {},
   "outputs": [
    {
     "data": {
      "text/plain": [
       "GridSearchCV(cv=3, error_score=nan,\n",
       "             estimator=Pipeline(memory=None,\n",
       "                                steps=[('transform',\n",
       "                                        ColumnTransformer(n_jobs=None,\n",
       "                                                          remainder='drop',\n",
       "                                                          sparse_threshold=0.3,\n",
       "                                                          transformer_weights=None,\n",
       "                                                          transformers=[('continuous',\n",
       "                                                                         'passthrough',\n",
       "                                                                         ['A4',\n",
       "                                                                          'A10',\n",
       "                                                                          'A16']),\n",
       "                                                                        ('binary',\n",
       "                                                                         OrdinalEncoder(categories='auto',\n",
       "                                                                                        dtype=<class 'numpy.float64'>),\n",
       "                                                                         ['gender',\n",
       "                                                                          'type_account'])],\n",
       "                                                          verbose=F...\n",
       "                                                                   validation_fraction=0.1,\n",
       "                                                                   verbose=0,\n",
       "                                                                   warm_start=False))],\n",
       "                                verbose=False),\n",
       "             iid='deprecated', n_jobs=-1,\n",
       "             param_grid=[{'gb__max_depth': [5, 10, 15, None],\n",
       "                          'gb__max_features': ['auto', 'log2'],\n",
       "                          'gb__max_leaf_nodes': [50, 100, 150, None],\n",
       "                          'gb__n_iter_no_change': [2, 5, None],\n",
       "                          'gb__validation_fraction': [0.1, 0.3, 0.6]}],\n",
       "             pre_dispatch='2*n_jobs', refit=True, return_train_score=False,\n",
       "             scoring=None, verbose=0)"
      ]
     },
     "execution_count": 321,
     "metadata": {},
     "output_type": "execute_result"
    }
   ],
   "source": [
    "from sklearn.ensemble import GradientBoostingClassifier\n",
    "\n",
    "gb_pipe = Pipeline([('transform', data_transformer),\n",
    "                    ('gb', GradientBoostingClassifier(random_state = 42))])\n",
    "\n",
    "params = [{'gb__max_depth': [5, 10, 15, None],\n",
    "           'gb__max_leaf_nodes': [50, 100, 150, None],\n",
    "           'gb__max_features': ['auto', 'log2'],\n",
    "           'gb__validation_fraction': [0.1, 0.3, 0.6],\n",
    "           'gb__n_iter_no_change': [2, 5, None]}]\n",
    "\n",
    "gb_gridsearch = GridSearchCV(gb_pipe, params, n_jobs = -1, cv = 3)\n",
    "\n",
    "gb_gridsearch.fit(x_train, y_train)"
   ]
  },
  {
   "cell_type": "code",
   "execution_count": 323,
   "metadata": {},
   "outputs": [
    {
     "data": {
      "text/plain": [
       "{'gb__max_depth': 5,\n",
       " 'gb__max_features': 'auto',\n",
       " 'gb__max_leaf_nodes': 50,\n",
       " 'gb__n_iter_no_change': 2,\n",
       " 'gb__validation_fraction': 0.1}"
      ]
     },
     "execution_count": 323,
     "metadata": {},
     "output_type": "execute_result"
    }
   ],
   "source": [
    "gb_gridsearch.best_params_"
   ]
  },
  {
   "cell_type": "code",
   "execution_count": 324,
   "metadata": {},
   "outputs": [],
   "source": [
    "final_gb = gb_gridsearch.best_estimator_\n",
    "y_train_gb = final_gb.predict(x_train)\n",
    "y_test_gb = final_gb.predict(x_test)"
   ]
  },
  {
   "cell_type": "code",
   "execution_count": 325,
   "metadata": {},
   "outputs": [
    {
     "name": "stdout",
     "output_type": "stream",
     "text": [
      "0.998532892790216\n",
      "0.9983262774441272\n"
     ]
    }
   ],
   "source": [
    "print(recall_score(y_train, y_train_gb, labels=['A','D'],pos_label='A'))\n",
    "print(recall_score(y_test, y_test_gb, labels=['A','D'],pos_label='A'))"
   ]
  },
  {
   "cell_type": "code",
   "execution_count": 326,
   "metadata": {},
   "outputs": [
    {
     "name": "stdout",
     "output_type": "stream",
     "text": [
      "[[80993   119]\n",
      " [  421  2390]]\n",
      "[[20280    34]\n",
      " [  104   563]]\n"
     ]
    }
   ],
   "source": [
    "print(confusion_matrix(y_train, y_train_gb))\n",
    "print(confusion_matrix(y_test, y_test_gb))"
   ]
  },
  {
   "cell_type": "code",
   "execution_count": null,
   "metadata": {},
   "outputs": [],
   "source": []
  }
 ],
 "metadata": {
  "kernelspec": {
   "display_name": "Python 3",
   "language": "python",
   "name": "python3"
  },
  "language_info": {
   "codemirror_mode": {
    "name": "ipython",
    "version": 3
   },
   "file_extension": ".py",
   "mimetype": "text/x-python",
   "name": "python",
   "nbconvert_exporter": "python",
   "pygments_lexer": "ipython3",
   "version": "3.7.6"
  }
 },
 "nbformat": 4,
 "nbformat_minor": 4
}
